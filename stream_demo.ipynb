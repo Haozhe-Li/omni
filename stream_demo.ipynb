{
 "cells": [
  {
   "cell_type": "code",
   "execution_count": null,
   "id": "ba5c9dc9",
   "metadata": {},
   "outputs": [
    {
     "name": "stdout",
     "output_type": "stream",
     "text": [
      "--- Streaming Response ---\n",
      "('data: {\"tool\": \"Update from node supervisor:\\\\n\\\\n\"}\\n'\n",
      " '\\n'\n",
      " 'data: {\"tool\": \"=================================\\\\u001b[1m Tool Message '\n",
      " '\\\\u001b[0m=================================\\\\nName: '\n",
      " 'transfer_to_research_agent\\\\n\\\\nSuccessfully transferred to '\n",
      " 'research_agent\"}\\n'\n",
      " '\\n'\n",
      " 'data: {\"tool\": \"\\\\n\"}\\n'\n",
      " '\\n'\n",
      " 'data: {\"tool\": \"Update from node research_agent:\\\\n\\\\n\"}\\n'\n",
      " '\\n'\n",
      " 'data: {\"tool\": \"==================================\\\\u001b[1m Ai Message '\n",
      " '\\\\u001b[0m==================================\\\\nName: research_agent\\\\n\\\\nThe '\n",
      " 'current weather in Chengdu, Sichuan, China is approximately 31\\\\u00b0C with '\n",
      " 'overcast skies. The RealFeel\\\\u00ae temperature is around 38\\\\u00b0C, '\n",
      " 'indicating it feels quite hot. The air quality is poor, and the humidity '\n",
      " 'level is about 54%. The clouds are thick, and there is a slight breeze from '\n",
      " 'the north at around 2 km/h.\"}\\n'\n",
      " '\\n'\n",
      " 'data: {\"tool\": \"\\\\n\"}\\n'\n",
      " '\\n'\n",
      " 'data: {\"tool\": \"Update from node supervisor:\\\\n\\\\n\"}\\n'\n",
      " '\\n'\n",
      " 'data: {\"answer\": \"==================================\\\\u001b[1m Ai Message '\n",
      " '\\\\u001b[0m==================================\\\\nName: '\n",
      " 'supervisor\\\\n\\\\n<answer>The weather in Chengdu is currently about 31\\\\u00b0C '\n",
      " '(feels like 38\\\\u00b0C), overcast, humid (54% humidity), with light wind. '\n",
      " 'Air quality is poor, so caution is advised if spending time outdoors, '\n",
      " 'especially for sensitive groups.</answer>\"}\\n'\n",
      " '\\n'\n",
      " 'data: {\"tool\": \"\\\\n\"}\\n'\n",
      " '\\n'\n",
      " 'data: {\"content\": \"[DONE]\"}\\n'\n",
      " '\\n')\n",
      "\n",
      "--- End of Stream ---\n"
     ]
    }
   ],
   "source": [
    "import requests\n",
    "import json\n",
    "import pprint\n",
    "\n",
    "def test_streaming_post():\n",
    "    \"\"\"\n",
    "    Sends a POST request to a streaming endpoint and prints the response chunks.\n",
    "    \"\"\"\n",
    "    url = \"http://127.0.0.1:8000/stream\"\n",
    "    payload = {\"query\": \"how's the weather in chengdu?\"}\n",
    "    headers = {\"Content-Type\": \"application/json\"}\n",
    "\n",
    "    try:\n",
    "        # The `stream=True` parameter is crucial for handling streaming responses.\n",
    "        with requests.post(url, data=json.dumps(payload), headers=headers, stream=True) as response:\n",
    "            # Check if the request was successful\n",
    "            response.raise_for_status()\n",
    "            \n",
    "            print(\"--- Streaming Response ---\")\n",
    "            # Iterate over the response content in chunks\n",
    "            for chunk in response.iter_content(chunk_size=None):\n",
    "                if chunk:\n",
    "                    # Decode bytes to string and print\n",
    "                    print(chunk.decode('utf-8'), end='')\n",
    "            print(\"\\n--- End of Stream ---\")\n",
    "\n",
    "    except requests.exceptions.RequestException as e:\n",
    "        print(f\"An error occurred: {e}\")\n",
    "\n",
    "# Run the test function\n",
    "if __name__ == \"__main__\":\n",
    "    test_streaming_post()\n"
   ]
  }
 ],
 "metadata": {
  "kernelspec": {
   "display_name": "venv",
   "language": "python",
   "name": "python3"
  },
  "language_info": {
   "codemirror_mode": {
    "name": "ipython",
    "version": 3
   },
   "file_extension": ".py",
   "mimetype": "text/x-python",
   "name": "python",
   "nbconvert_exporter": "python",
   "pygments_lexer": "ipython3",
   "version": "3.12.7"
  }
 },
 "nbformat": 4,
 "nbformat_minor": 5
}
