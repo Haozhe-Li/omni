{
 "cells": [
  {
   "cell_type": "code",
   "execution_count": 40,
   "id": "b076def1",
   "metadata": {},
   "outputs": [],
   "source": [
    "# Import relevant functionality\n",
    "from langchain_groq import ChatGroq\n",
    "from langchain_core.messages import HumanMessage\n",
    "from langgraph.checkpoint.memory import MemorySaver\n",
    "from langgraph.prebuilt import create_react_agent\n",
    "from langchain_community.tools import JinaSearch\n",
    "\n",
    "# Create the agent\n",
    "memory = MemorySaver()\n",
    "model = ChatGroq(model_name=\"meta-llama/llama-4-scout-17b-16e-instruct\")"
   ]
  },
  {
   "cell_type": "code",
   "execution_count": 41,
   "id": "e3d86d62",
   "metadata": {},
   "outputs": [],
   "source": [
    "# define search tool\n",
    "\n",
    "from langchain_community.tools import DuckDuckGoSearchRun\n",
    "\n",
    "search = DuckDuckGoSearchRun()"
   ]
  },
  {
   "cell_type": "code",
   "execution_count": null,
   "id": "8d312b39",
   "metadata": {},
   "outputs": [],
   "source": [
    "from langchain_community.document_loaders import WebBaseLoader\n",
    "from langchain_core.tools import tool\n",
    "\n",
    "\n",
    "@tool(\n",
    "    \"webpage_loader\",\n",
    "    description=\"Load and return text content from a given webpage URL\",\n",
    ")\n",
    "def load_webpage(url: str) -> str:\n",
    "    loader = WebBaseLoader(url)\n",
    "    docs = loader.load()\n",
    "    # 合并所有文档内容为一个字符串返回\n",
    "    return \"\\n\".join(doc.page_content for doc in docs)"
   ]
  },
  {
   "cell_type": "code",
   "execution_count": null,
   "id": "d86fa08e",
   "metadata": {},
   "outputs": [],
   "source": [
    "# a python excuator allow LLM to write and execute python code\n",
    "from langchain_core.tools import Tool\n",
    "from langchain_experimental.utilities import PythonREPL\n",
    "\n",
    "python_repl = PythonREPL()\n",
    "\n",
    "python_tool = Tool(\n",
    "    name=\"python_repl\",\n",
    "    description=\"Execute python code. Input should be valid python code as a string. Use print() to output results.\",\n",
    "    func=python_repl.run,\n",
    ")\n",
    "\n",
    "def python_tool_wrapper(code: str) -> str:\n",
    "    \"\"\"Wrapper to execute python code and return the output.\"\"\"\n",
    "    try:\n",
    "        return python_repl.run(code)\n",
    "    except Exception as e:\n",
    "        return f\"Error executing code: {str(e)}\""
   ]
  },
  {
   "cell_type": "code",
   "execution_count": 44,
   "id": "103393ab",
   "metadata": {},
   "outputs": [],
   "source": [
    "tools = [search, python_tool, load_webpage]\n",
    "agent_executor = create_react_agent(model, tools, checkpointer=memory)"
   ]
  },
  {
   "cell_type": "code",
   "execution_count": 45,
   "id": "59502f16",
   "metadata": {},
   "outputs": [
    {
     "name": "stdout",
     "output_type": "stream",
     "text": [
      "================================\u001b[1m Human Message \u001b[0m=================================\n",
      "\n",
      "\n",
      "                        who are you\n",
      "                        \n",
      "==================================\u001b[1m Ai Message \u001b[0m==================================\n",
      "\n",
      "I'm an AI assistant designed by Meta. I'm here to answer your questions, share interesting ideas and maybe even surprise you with a fresh perspective. What's on your mind?\n"
     ]
    }
   ],
   "source": [
    "# generate a uuid for thread ID for the conversation\n",
    "import uuid\n",
    "thread_id = str(uuid.uuid4())\n",
    "\n",
    "config = {\"configurable\": {\"thread_id\": thread_id}}\n",
    "for step in agent_executor.stream(\n",
    "    {\n",
    "        \"messages\": [\n",
    "            HumanMessage(\n",
    "                content=\"\"\"\n",
    "                        who are you\n",
    "                        \"\"\"\n",
    "            )\n",
    "        ]\n",
    "    },\n",
    "    config,\n",
    "    stream_mode=\"values\",\n",
    "):\n",
    "    step[\"messages\"][-1].pretty_print()"
   ]
  }
 ],
 "metadata": {
  "kernelspec": {
   "display_name": "venv",
   "language": "python",
   "name": "python3"
  },
  "language_info": {
   "codemirror_mode": {
    "name": "ipython",
    "version": 3
   },
   "file_extension": ".py",
   "mimetype": "text/x-python",
   "name": "python",
   "nbconvert_exporter": "python",
   "pygments_lexer": "ipython3",
   "version": "3.12.7"
  }
 },
 "nbformat": 4,
 "nbformat_minor": 5
}
