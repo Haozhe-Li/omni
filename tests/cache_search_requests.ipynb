{
 "cells": [
  {
   "cell_type": "code",
   "execution_count": 1,
   "id": "166d64b7",
   "metadata": {},
   "outputs": [
    {
     "name": "stderr",
     "output_type": "stream",
     "text": [
      "/Users/lihaozhe/Coding/omni/venv/lib/python3.12/site-packages/tqdm/auto.py:21: TqdmWarning: IProgress not found. Please update jupyter and ipywidgets. See https://ipywidgets.readthedocs.io/en/stable/user_install.html\n",
      "  from .autonotebook import tqdm as notebook_tqdm\n"
     ]
    },
    {
     "name": "stdout",
     "output_type": "stream",
     "text": [
      "Using Groq models\n"
     ]
    },
    {
     "name": "stderr",
     "output_type": "stream",
     "text": [
      "USER_AGENT environment variable not set, consider setting it to identify your requests.\n"
     ]
    }
   ],
   "source": [
    "import sys\n",
    "\n",
    "sys.path.append(\"..\")\n",
    "from core.semantic_search_cache import semantic_cache\n",
    "from core.sources import ss\n",
    "from core.agents.research import research\n",
    "ss.clear_sources()\n"
   ]
  },
  {
   "cell_type": "code",
   "execution_count": 8,
   "id": "1f48d84f",
   "metadata": {},
   "outputs": [],
   "source": [
    "queries = [\n",
    "    \"How to improve time management skills\",\n",
    "    \"Benefits of drinking green tea\",\n",
    "    \"What causes rainbows\",\n",
    "    \"How do airplanes stay in the air\",\n",
    "    \"What is the capital of Australia\",\n",
    "    \"Tips for learning a new language\",\n",
    "    \"How to cook perfect pasta\",\n",
    "    \"What are the symptoms of vitamin D deficiency\",\n",
    "    \"History of the Great Wall of China\",\n",
    "    \"How does photosynthesis work\",\n",
    "    \"Best exercises for back pain relief\",\n",
    "    \"What is blockchain technology\",\n",
    "    \"How to start a small business\",\n",
    "    \"What are the different types of renewable energy\",\n",
    "    \"How to meditate for beginners\",\n",
    "    \"What makes a good resume\",\n",
    "    \"How do vaccines work\",\n",
    "    \"What is the theory of relativity\",\n",
    "    \"How to improve public speaking skills\",\n",
    "    \"What are the health benefits of yoga\",\n",
    "    \"How to write a cover letter\",\n",
    "    \"What is artificial intelligence\",\n",
    "    \"How can I reduce plastic waste\",\n",
    "    \"What are the main causes of climate change\",\n",
    "    \"How to bake chocolate chip cookies\",\n",
    "    \"How to build a website from scratch\",\n",
    "    \"What is the difference between a virus and bacteria\",\n",
    "    \"How to improve concentration and focus\",\n",
    "    \"What are the top tourist attractions in Paris\",\n",
    "    \"How does the stock market work\",\n",
    "    \"How to start a garden at home\",\n",
    "    \"What are the benefits of regular exercise\",\n",
    "    \"How to write a business plan\",\n",
    "    \"What causes earthquakes\",\n",
    "    \"How to improve sleep quality\",\n",
    "    \"What is the history of the internet\",\n",
    "    \"How to make homemade bread\",\n",
    "    \"What are the symptoms of dehydration\",\n",
    "    \"How to create a budget plan\",\n",
    "    \"What is quantum computing\",\n",
    "    \"How to deal with stress effectively\",\n",
    "    \"What are the key components of a healthy diet\",\n",
    "    \"How to learn to play the guitar\",\n",
    "    \"What is renewable energy and why is it important\",\n",
    "    \"How to prepare for a job interview\",\n",
    "    \"What are the main functions of the human brain\",\n",
    "    \"How to start coding in Python\",\n",
    "    \"What is climate change and its impact\",\n",
    "    \"How to create effective presentations\",\n",
    "    \"What are common causes of headaches\",\n",
    "    \"How to build a website from scratch\",\n",
    "    \"What is the difference between a virus and bacteria\",\n",
    "    \"How to improve concentration and focus\",\n",
    "    \"What are the top tourist attractions in Paris\",\n",
    "    \"How does the stock market work\",\n",
    "    \"How to start a garden at home\",\n",
    "    \"What are the benefits of regular exercise\",\n",
    "    \"How to write a business plan\",\n",
    "    \"What causes earthquakes\",\n",
    "    \"How to improve sleep quality\",\n",
    "    \"What is the history of the internet\",\n",
    "    \"How to make homemade bread\",\n",
    "    \"What are the symptoms of dehydration\",\n",
    "    \"How to create a budget plan\",\n",
    "    \"What is quantum computing\",\n",
    "    \"How to deal with stress effectively\",\n",
    "    \"What are the key components of a healthy diet\",\n",
    "    \"How to learn to play the guitar\",\n",
    "    \"What is renewable energy and why is it important\",\n",
    "    \"How to prepare for a job interview\",\n",
    "    \"What are the main functions of the human brain\",\n",
    "    \"How to start coding in Python\",\n",
    "    \"What is climate change and its impact\",\n",
    "    \"How to create effective presentations\",\n",
    "    \"What are common causes of headaches\",\n",
    "]\n",
    "\n"
   ]
  },
  {
   "cell_type": "code",
   "execution_count": 2,
   "id": "678b03a1",
   "metadata": {},
   "outputs": [],
   "source": [
    "queries = [\n",
    "    \"What is the capital of China?\"\n",
    "]"
   ]
  },
  {
   "cell_type": "code",
   "execution_count": 3,
   "id": "25b24cfd",
   "metadata": {},
   "outputs": [
    {
     "name": "stdout",
     "output_type": "stream",
     "text": [
      "Performing web search for queries: ['What is the capital of China?']\n"
     ]
    }
   ],
   "source": [
    "import time\n",
    "for query in queries:\n",
    "    result = research(query, use_cache=False)\n",
    "    time.sleep(0.2)"
   ]
  },
  {
   "cell_type": "code",
   "execution_count": 4,
   "id": "2632bba5",
   "metadata": {},
   "outputs": [
    {
     "data": {
      "text/plain": [
       "[{'query': 'What is the capital of China?',\n",
       "  'url': 'https://en.wikipedia.org/wiki/Beijing',\n",
       "  'title': 'Beijing - Wikipedia',\n",
       "  'snippet': \"Beijing, previously romanized as Peking, is the capital city of China. With more than 22 million residents, it is the world's most populous national capital ...\",\n",
       "  'aviod_cache': False},\n",
       " {'query': 'What is the capital of China?',\n",
       "  'url': 'https://clintonwhitehouse3.archives.gov/WH/New/China/beijing.html',\n",
       "  'title': 'Beijing - The White House',\n",
       "  'snippet': 'The modern day capital of China is Beijing (literally \"Northern Capital\"), which first served as China\\'s capital city in 1261, when the Mongol ruler Kublai ...',\n",
       "  'aviod_cache': False},\n",
       " {'query': 'What is the capital of China?',\n",
       "  'url': 'https://www.britannica.com/place/Beijing',\n",
       "  'title': 'Beijing | Province, City, History, Map, & Facts | Britannica',\n",
       "  'snippet': \"Beijing, city, province-level shi (municipality), and capital of the People's Republic of China. The city has been an integral part of China's history over ...\",\n",
       "  'aviod_cache': False},\n",
       " {'query': 'What is the capital of China?',\n",
       "  'url': 'https://globalcenters.columbia.edu/content/visiting-beijing',\n",
       "  'title': 'Visiting Beijing | Columbia Global Centers',\n",
       "  'snippet': \"Beijing (Chinese: 北京 Běijīng), is the capital of the People's Republic of China. There are very few places in the world where you'll get to check off as ...\",\n",
       "  'aviod_cache': False},\n",
       " {'query': 'What is the capital of China?',\n",
       "  'url': 'https://blog.turkishairlines.com/en/china-the-capital-and-other-cities/',\n",
       "  'title': 'China: The capital and other cities - Turkish Airlines ®',\n",
       "  'snippet': \"The capital of China is Beijing. Other well-known cities include Shanghai, China's largest city, as well as Hong Kong, Guilin and Guangzhou.\",\n",
       "  'aviod_cache': False}]"
      ]
     },
     "execution_count": 4,
     "metadata": {},
     "output_type": "execute_result"
    }
   ],
   "source": [
    "sources = ss.get_sources()\n",
    "sources # This will trigger the cache to be populated\n"
   ]
  },
  {
   "cell_type": "code",
   "execution_count": 5,
   "id": "1dece4f5",
   "metadata": {},
   "outputs": [
    {
     "name": "stdout",
     "output_type": "stream",
     "text": [
      "Embedding text: What is the capital of China?\n",
      "Embedding text: What is the capital of China?\n",
      "Embedding text: What is the capital of China?\n",
      "Embedding text: What is the capital of China?\n",
      "Embedding text: What is the capital of China?\n",
      "Successfully added sources to cache.\n"
     ]
    }
   ],
   "source": [
    "semantic_cache.add(sources=sources)"
   ]
  },
  {
   "cell_type": "code",
   "execution_count": 12,
   "id": "5acc5f54",
   "metadata": {},
   "outputs": [
    {
     "data": {
      "text/plain": [
       "[{'url': 'https://globalcenters.columbia.edu/content/visiting-beijing',\n",
       "  'title': 'Visiting Beijing | Columbia Global Centers',\n",
       "  'snippet': \"Beijing (Chinese: 北京 Běijīng), is the capital of the People's Republic of China. There are very few places in the world where you'll get to check off as ...\",\n",
       "  'query': 'What is the capital of China?',\n",
       "  'aviod_cache': True}]"
      ]
     },
     "execution_count": 12,
     "metadata": {},
     "output_type": "execute_result"
    }
   ],
   "source": [
    "semantic_cache.get(\"China's capital\", threshold=0.8)"
   ]
  },
  {
   "cell_type": "code",
   "execution_count": null,
   "id": "8b034141",
   "metadata": {},
   "outputs": [],
   "source": [
    "from core.agents.weather import get_current_weather\n",
    "\n",
    "get_current_weather(\"Tokyo, Japan\")"
   ]
  }
 ],
 "metadata": {
  "kernelspec": {
   "display_name": "venv",
   "language": "python",
   "name": "python3"
  },
  "language_info": {
   "codemirror_mode": {
    "name": "ipython",
    "version": 3
   },
   "file_extension": ".py",
   "mimetype": "text/x-python",
   "name": "python",
   "nbconvert_exporter": "python",
   "pygments_lexer": "ipython3",
   "version": "3.12.7"
  }
 },
 "nbformat": 4,
 "nbformat_minor": 5
}
