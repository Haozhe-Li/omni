{
 "cells": [
  {
   "cell_type": "code",
   "execution_count": 14,
   "id": "166d64b7",
   "metadata": {},
   "outputs": [],
   "source": [
    "import sys\n",
    "\n",
    "sys.path.append(\"..\")\n",
    "from core.semantic_search_cache import semantic_cache\n",
    "from core.sources import ss\n",
    "from core.agents.research import research\n",
    "# ss.clear_sources()\n"
   ]
  },
  {
   "cell_type": "code",
   "execution_count": 15,
   "id": "1f48d84f",
   "metadata": {},
   "outputs": [],
   "source": [
    "queries = [\n",
    "    \"How to improve time management skills\",\n",
    "    \"Benefits of drinking green tea\",\n",
    "    \"What causes rainbows\",\n",
    "    \"How do airplanes stay in the air\",\n",
    "    \"What is the capital of Australia\",\n",
    "    \"Tips for learning a new language\",\n",
    "    \"How to cook perfect pasta\",\n",
    "    \"What are the symptoms of vitamin D deficiency\",\n",
    "    \"History of the Great Wall of China\",\n",
    "    \"How does photosynthesis work\",\n",
    "    \"Best exercises for back pain relief\",\n",
    "    \"What is blockchain technology\",\n",
    "    \"How to start a small business\",\n",
    "    \"What are the different types of renewable energy\",\n",
    "    \"How to meditate for beginners\",\n",
    "    \"What makes a good resume\",\n",
    "    \"How do vaccines work\",\n",
    "    \"What is the theory of relativity\",\n",
    "    \"How to improve public speaking skills\",\n",
    "    \"What are the health benefits of yoga\",\n",
    "    \"How to write a cover letter\",\n",
    "    \"What is artificial intelligence\",\n",
    "    \"How can I reduce plastic waste\",\n",
    "    \"What are the main causes of climate change\",\n",
    "    \"How to bake chocolate chip cookies\",\n",
    "    \"How to build a website from scratch\",\n",
    "    \"What is the difference between a virus and bacteria\",\n",
    "    \"How to improve concentration and focus\",\n",
    "    \"What are the top tourist attractions in Paris\",\n",
    "    \"How does the stock market work\",\n",
    "    \"How to start a garden at home\",\n",
    "    \"What are the benefits of regular exercise\",\n",
    "    \"How to write a business plan\",\n",
    "    \"What causes earthquakes\",\n",
    "    \"How to improve sleep quality\",\n",
    "    \"What is the history of the internet\",\n",
    "    \"How to make homemade bread\",\n",
    "    \"What are the symptoms of dehydration\",\n",
    "    \"How to create a budget plan\",\n",
    "    \"What is quantum computing\",\n",
    "    \"How to deal with stress effectively\",\n",
    "    \"What are the key components of a healthy diet\",\n",
    "    \"How to learn to play the guitar\",\n",
    "    \"What is renewable energy and why is it important\",\n",
    "    \"How to prepare for a job interview\",\n",
    "    \"What are the main functions of the human brain\",\n",
    "    \"How to start coding in Python\",\n",
    "    \"What is climate change and its impact\",\n",
    "    \"How to create effective presentations\",\n",
    "    \"What are common causes of headaches\",\n",
    "    \"How to build a website from scratch\",\n",
    "    \"What is the difference between a virus and bacteria\",\n",
    "    \"How to improve concentration and focus\",\n",
    "    \"What are the top tourist attractions in Paris\",\n",
    "    \"How does the stock market work\",\n",
    "    \"How to start a garden at home\",\n",
    "    \"What are the benefits of regular exercise\",\n",
    "    \"How to write a business plan\",\n",
    "    \"What causes earthquakes\",\n",
    "    \"How to improve sleep quality\",\n",
    "    \"What is the history of the internet\",\n",
    "    \"How to make homemade bread\",\n",
    "    \"What are the symptoms of dehydration\",\n",
    "    \"How to create a budget plan\",\n",
    "    \"What is quantum computing\",\n",
    "    \"How to deal with stress effectively\",\n",
    "    \"What are the key components of a healthy diet\",\n",
    "    \"How to learn to play the guitar\",\n",
    "    \"What is renewable energy and why is it important\",\n",
    "    \"How to prepare for a job interview\",\n",
    "    \"What are the main functions of the human brain\",\n",
    "    \"How to start coding in Python\",\n",
    "    \"What is climate change and its impact\",\n",
    "    \"How to create effective presentations\",\n",
    "    \"What are common causes of headaches\",\n",
    "]\n",
    "\n"
   ]
  },
  {
   "cell_type": "code",
   "execution_count": 17,
   "id": "25b24cfd",
   "metadata": {},
   "outputs": [
    {
     "name": "stdout",
     "output_type": "stream",
     "text": [
      "Performing web search for queries: ['How to improve time management skills']\n",
      "Performing web search for queries: ['Benefits of drinking green tea']\n",
      "Performing web search for queries: ['What causes rainbows']\n",
      "Performing web search for queries: ['How do airplanes stay in the air']\n",
      "Performing web search for queries: ['What is the capital of Australia']\n",
      "Performing web search for queries: ['Tips for learning a new language']\n",
      "Performing web search for queries: ['How to cook perfect pasta']\n",
      "Performing web search for queries: ['What are the symptoms of vitamin D deficiency']\n",
      "Performing web search for queries: ['History of the Great Wall of China']\n",
      "Performing web search for queries: ['How does photosynthesis work']\n",
      "Performing web search for queries: ['Best exercises for back pain relief']\n",
      "Performing web search for queries: ['What is blockchain technology']\n",
      "Performing web search for queries: ['How to start a small business']\n",
      "Performing web search for queries: ['What are the different types of renewable energy']\n",
      "Performing web search for queries: ['How to meditate for beginners']\n",
      "Performing web search for queries: ['What makes a good resume']\n",
      "Performing web search for queries: ['How do vaccines work']\n",
      "Performing web search for queries: ['What is the theory of relativity']\n",
      "Performing web search for queries: ['How to improve public speaking skills']\n",
      "Performing web search for queries: ['What are the health benefits of yoga']\n",
      "Performing web search for queries: ['How to write a cover letter']\n",
      "Performing web search for queries: ['What is artificial intelligence']\n",
      "Performing web search for queries: ['How can I reduce plastic waste']\n",
      "Performing web search for queries: ['What are the main causes of climate change']\n",
      "Performing web search for queries: ['How to bake chocolate chip cookies']\n",
      "Performing web search for queries: ['How to build a website from scratch']\n",
      "Performing web search for queries: ['What is the difference between a virus and bacteria']\n",
      "Performing web search for queries: ['How to improve concentration and focus']\n",
      "Performing web search for queries: ['What are the top tourist attractions in Paris']\n",
      "Performing web search for queries: ['How does the stock market work']\n",
      "Performing web search for queries: ['How to start a garden at home']\n",
      "Performing web search for queries: ['What are the benefits of regular exercise']\n",
      "Performing web search for queries: ['How to write a business plan']\n",
      "Performing web search for queries: ['What causes earthquakes']\n",
      "Performing web search for queries: ['How to improve sleep quality']\n",
      "Performing web search for queries: ['What is the history of the internet']\n",
      "Performing web search for queries: ['How to make homemade bread']\n",
      "Performing web search for queries: ['What are the symptoms of dehydration']\n",
      "Performing web search for queries: ['How to create a budget plan']\n",
      "Performing web search for queries: ['What is quantum computing']\n",
      "Performing web search for queries: ['How to deal with stress effectively']\n",
      "Performing web search for queries: ['What are the key components of a healthy diet']\n",
      "Performing web search for queries: ['How to learn to play the guitar']\n",
      "Performing web search for queries: ['What is renewable energy and why is it important']\n",
      "Performing web search for queries: ['How to prepare for a job interview']\n",
      "Performing web search for queries: ['What are the main functions of the human brain']\n",
      "Performing web search for queries: ['How to start coding in Python']\n",
      "Performing web search for queries: ['What is climate change and its impact']\n",
      "Performing web search for queries: ['How to create effective presentations']\n",
      "Performing web search for queries: ['What are common causes of headaches']\n",
      "Performing web search for queries: ['How to build a website from scratch']\n",
      "Performing web search for queries: ['What is the difference between a virus and bacteria']\n",
      "Performing web search for queries: ['How to improve concentration and focus']\n",
      "Performing web search for queries: ['What are the top tourist attractions in Paris']\n",
      "Performing web search for queries: ['How does the stock market work']\n",
      "Performing web search for queries: ['How to start a garden at home']\n",
      "Performing web search for queries: ['What are the benefits of regular exercise']\n",
      "Performing web search for queries: ['How to write a business plan']\n",
      "Performing web search for queries: ['What causes earthquakes']\n",
      "Performing web search for queries: ['How to improve sleep quality']\n",
      "Performing web search for queries: ['What is the history of the internet']\n",
      "Performing web search for queries: ['How to make homemade bread']\n",
      "Performing web search for queries: ['What are the symptoms of dehydration']\n",
      "Performing web search for queries: ['How to create a budget plan']\n",
      "Performing web search for queries: ['What is quantum computing']\n",
      "Performing web search for queries: ['How to deal with stress effectively']\n",
      "Performing web search for queries: ['What are the key components of a healthy diet']\n",
      "Performing web search for queries: ['How to learn to play the guitar']\n",
      "Performing web search for queries: ['What is renewable energy and why is it important']\n",
      "Performing web search for queries: ['How to prepare for a job interview']\n",
      "Performing web search for queries: ['What are the main functions of the human brain']\n",
      "Performing web search for queries: ['How to start coding in Python']\n",
      "Performing web search for queries: ['What is climate change and its impact']\n",
      "Performing web search for queries: ['How to create effective presentations']\n",
      "Performing web search for queries: ['What are common causes of headaches']\n"
     ]
    }
   ],
   "source": [
    "import time\n",
    "for query in queries:\n",
    "    result = research(query, use_cache=False)\n",
    "    time.sleep(0.2)"
   ]
  },
  {
   "cell_type": "code",
   "execution_count": 19,
   "id": "2632bba5",
   "metadata": {},
   "outputs": [
    {
     "data": {
      "text/plain": [
       "263"
      ]
     },
     "execution_count": 19,
     "metadata": {},
     "output_type": "execute_result"
    }
   ],
   "source": [
    "sources = ss.get_sources()\n",
    "len(sources)  # This will trigger the cache to be populated\n"
   ]
  },
  {
   "cell_type": "code",
   "execution_count": 20,
   "id": "1dece4f5",
   "metadata": {},
   "outputs": [
    {
     "name": "stdout",
     "output_type": "stream",
     "text": [
      "Successfully added sources to cache.\n"
     ]
    }
   ],
   "source": [
    "semantic_cache.add(sources=sources)"
   ]
  },
  {
   "cell_type": "code",
   "execution_count": 33,
   "id": "5acc5f54",
   "metadata": {},
   "outputs": [
    {
     "data": {
      "text/plain": [
       "[{'url': 'https://www.reddit.com/r/jobs/comments/17h1qml/how_the_fuck_do_people_prepare_for_interviews/',\n",
       "  'title': 'How the fuck do people prepare for interviews these days??? - Reddit',\n",
       "  'snippet': 'Research the company, look at the job description and list relevant experience, bring examples of work and have questions ready. Look at the ...',\n",
       "  'query': 'How to prepare for a job interview',\n",
       "  'aviod_cache': True},\n",
       " {'url': 'https://www.careervillage.org/questions/741934/how-do-you-prepare-for-interviews-if-youre-really-bad-at-making-things-up-on-the-spot',\n",
       "  'title': 'How do you prepare for interviews… | CareerVillage',\n",
       "  'snippet': '1. Learn about the company before the day of the interview. You can usually find information on their website, LinkedIn, or any news articles that highlight ...',\n",
       "  'query': 'How to prepare for a job interview',\n",
       "  'aviod_cache': True}]"
      ]
     },
     "execution_count": 33,
     "metadata": {},
     "output_type": "execute_result"
    }
   ],
   "source": [
    "semantic_cache.get(\"I'm finding a job\", threshold=0.6)"
   ]
  }
 ],
 "metadata": {
  "kernelspec": {
   "display_name": "venv",
   "language": "python",
   "name": "python3"
  },
  "language_info": {
   "codemirror_mode": {
    "name": "ipython",
    "version": 3
   },
   "file_extension": ".py",
   "mimetype": "text/x-python",
   "name": "python",
   "nbconvert_exporter": "python",
   "pygments_lexer": "ipython3",
   "version": "3.12.7"
  }
 },
 "nbformat": 4,
 "nbformat_minor": 5
}
