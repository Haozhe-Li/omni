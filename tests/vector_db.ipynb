{
 "cells": [
  {
   "cell_type": "code",
   "execution_count": null,
   "id": "623a0122",
   "metadata": {},
   "outputs": [],
   "source": [
    "import sys\n",
    "sys.path.append(\"..\")\n"
   ]
  },
  {
   "cell_type": "code",
   "execution_count": null,
   "id": "2622461f",
   "metadata": {},
   "outputs": [],
   "source": [
    "from core.vectordb import client\n",
    "from core.embedding import dense_embedding_model, sparse_embedding_model"
   ]
  },
  {
   "cell_type": "code",
   "execution_count": null,
   "id": "8319398a",
   "metadata": {},
   "outputs": [],
   "source": [
    "source = {\n",
    "    \"url\": \"https://www.weather.gov/forecast\",\n",
    "    \"title\": \"Weather Forecast\",\n",
    "    \"snippet\": \"Get the latest weather forecast for your area.\",\n",
    "    \"from_cache\": False,\n",
    "}"
   ]
  },
  {
   "cell_type": "code",
   "execution_count": null,
   "id": "84661824",
   "metadata": {},
   "outputs": [],
   "source": [
    "dense_embeddings = list(dense_embedding_model.embed(source[\"snippet\"]))[0]\n",
    "sparse_embeddings = list(sparse_embedding_model.embed(source[\"snippet\"]))[0]\n",
    "\n",
    "sparse_embeddings\n",
    "# dense_embeddings\n"
   ]
  },
  {
   "cell_type": "code",
   "execution_count": null,
   "id": "3053a53e",
   "metadata": {},
   "outputs": [],
   "source": [
    "# upsert to Qdrant\n",
    "import uuid\n",
    "points = [\n",
    "    {\n",
    "        \"id\": f\"{str(uuid.uuid4())}\",\n",
    "        \"vector\": {\n",
    "            \"bge_dense_vector\": dense_embeddings,\n",
    "            \"bm25_sparse_vector\": sparse_embeddings.as_object(),\n",
    "        },\n",
    "        \"payload\": {\n",
    "            \"url\": source.get(\"url\", \"\"),\n",
    "            \"title\": source.get(\"title\", \"\"),\n",
    "            \"snippet\": source.get(\"snippet\", \"\"),\n",
    "            \"query\": source.get(\"query\", \"\"),\n",
    "            \"from_cache\": True,\n",
    "        },\n",
    "    }\n",
    "]\n",
    "\n",
    "client.upsert(\n",
    "    collection_name=\"cache-2\",\n",
    "    points=points,\n",
    ")"
   ]
  },
  {
   "cell_type": "code",
   "execution_count": null,
   "id": "8c98a318",
   "metadata": {},
   "outputs": [],
   "source": [
    "query = \"Weather\"\n",
    "# query_embedding = list(dense_embedding_model.embed(query))[0]\n",
    "# len(query_embedding)"
   ]
  },
  {
   "cell_type": "code",
   "execution_count": null,
   "id": "29e2d628",
   "metadata": {},
   "outputs": [],
   "source": [
    "client.query_points(\n",
    "    \"cache-2\",\n",
    "    query=next(dense_embedding_model.query_embed(query)),\n",
    "    using=\"bge_dense_vector\",\n",
    "    limit=10,\n",
    "    with_payload=True,\n",
    ")\n"
   ]
  },
  {
   "cell_type": "code",
   "execution_count": null,
   "id": "886482c6",
   "metadata": {},
   "outputs": [],
   "source": [
    "from qdrant_client import models\n",
    "\n",
    "prefetch = [\n",
    "    models.Prefetch(\n",
    "        query=next(dense_embedding_model.query_embed(query)),\n",
    "        using=\"bge_dense_vector\",\n",
    "        limit=20,\n",
    "    ),\n",
    "    models.Prefetch(\n",
    "        query=(next(sparse_embedding_model.query_embed(query)).as_object()),\n",
    "        using=\"bm25_sparse_vector\",\n",
    "        limit=20,\n",
    "    ),\n",
    "]\n",
    "\n",
    "results = client.query_points(\n",
    "    \"cache-2\",\n",
    "    prefetch=prefetch,\n",
    "    query=models.FusionQuery(\n",
    "        fusion=models.Fusion.RRF,\n",
    "    ),\n",
    "    with_payload=True,\n",
    "    limit=10,\n",
    ")\n",
    "results"
   ]
  },
  {
   "cell_type": "code",
   "execution_count": 1,
   "id": "d4687c91",
   "metadata": {},
   "outputs": [
    {
     "name": "stderr",
     "output_type": "stream",
     "text": [
      "/Users/lihaozhe/Coding/omni/venv/lib/python3.12/site-packages/tqdm/auto.py:21: TqdmWarning: IProgress not found. Please update jupyter and ipywidgets. See https://ipywidgets.readthedocs.io/en/stable/user_install.html\n",
      "  from .autonotebook import tqdm as notebook_tqdm\n"
     ]
    }
   ],
   "source": [
    "import sys\n",
    "\n",
    "sys.path.append(\"..\")\n",
    "from core.semantic_search_cache import semantic_cache"
   ]
  },
  {
   "cell_type": "code",
   "execution_count": 3,
   "id": "e79d596b",
   "metadata": {},
   "outputs": [
    {
     "name": "stdout",
     "output_type": "stream",
     "text": [
      "Successfully added sources to cache.\n"
     ]
    }
   ],
   "source": [
    "source = {\n",
    "    \"title\": \"new york\",\n",
    "    \"snippet\": \"new york is a city\",\n",
    "    \"url\": \"https://www.nyc.gov\",\n",
    "    \"query\": \"new york\",\n",
    "}\n",
    "\n",
    "semantic_cache.add([source])"
   ]
  },
  {
   "cell_type": "code",
   "execution_count": 7,
   "id": "3b687986",
   "metadata": {},
   "outputs": [
    {
     "data": {
      "text/plain": [
       "[]"
      ]
     },
     "execution_count": 7,
     "metadata": {},
     "output_type": "execute_result"
    }
   ],
   "source": [
    "query = \"who are you\"\n",
    "semantic_cache.get(query)"
   ]
  }
 ],
 "metadata": {
  "kernelspec": {
   "display_name": "venv",
   "language": "python",
   "name": "python3"
  },
  "language_info": {
   "codemirror_mode": {
    "name": "ipython",
    "version": 3
   },
   "file_extension": ".py",
   "mimetype": "text/x-python",
   "name": "python",
   "nbconvert_exporter": "python",
   "pygments_lexer": "ipython3",
   "version": "3.12.7"
  }
 },
 "nbformat": 4,
 "nbformat_minor": 5
}
