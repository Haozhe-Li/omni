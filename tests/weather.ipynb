{
 "cells": [
  {
   "cell_type": "code",
   "execution_count": 6,
   "id": "623a0122",
   "metadata": {},
   "outputs": [
    {
     "data": {
      "text/plain": [
       "\"In Chengdu, the current weather is as follows:\\nDetailed status: moderate rain\\nWind speed: 3.75 m/s, direction: 358°\\nHumidity: 94%\\nTemperature: \\n  - Current: 19.56°C\\n  - High: 19.56°C\\n  - Low: 19.56°C\\n  - Feels like: 20.03°C\\nRain: {'1h': 1.78}\\nHeat index: None\\nCloud cover: 100%\""
      ]
     },
     "execution_count": 6,
     "metadata": {},
     "output_type": "execute_result"
    }
   ],
   "source": [
    "import os\n",
    "\n",
    "from langchain_community.utilities import OpenWeatherMapAPIWrapper\n",
    "import os\n",
    "\n",
    "weather = OpenWeatherMapAPIWrapper()\n",
    "weather.run(\"Chengdu\")"
   ]
  }
 ],
 "metadata": {
  "kernelspec": {
   "display_name": "venv",
   "language": "python",
   "name": "python3"
  },
  "language_info": {
   "codemirror_mode": {
    "name": "ipython",
    "version": 3
   },
   "file_extension": ".py",
   "mimetype": "text/x-python",
   "name": "python",
   "nbconvert_exporter": "python",
   "pygments_lexer": "ipython3",
   "version": "3.12.7"
  }
 },
 "nbformat": 4,
 "nbformat_minor": 5
}
