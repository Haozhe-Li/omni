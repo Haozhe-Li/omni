{
 "cells": [
  {
   "cell_type": "code",
   "execution_count": 5,
   "id": "ba5c9dc9",
   "metadata": {},
   "outputs": [
    {
     "name": "stdout",
     "output_type": "stream",
     "text": [
      "--- Streaming Response ---\n",
      "data: {\"supervisor_agent\": \"<delegation_instruction target='research_agent'>\\nSearch the web for 'Robinhood' definition and key features. Provide a concise summary in Chinese.\\n</delegation_instruction>\"}\n",
      "\n",
      "data: {\"research_agent\": \"[{\\\"query\\\": \\\"Robinhood definition\\\", \\\"url\\\": \\\"https://www.merriam-webster.com/dictionary/Robin%20Hood\\\", \\\"title\\\": \\\"ROBIN HOOD Definition & Meaning\\\", \\\"snippet\\\": \\\"The meaning of ROBIN HOOD is a person or group likened to a heroic outlaw; especially : one that robs the rich and gives to the poor.\\\", \\\"aviod_cache\\\": false}, {\\\"query\\\": \\\"Robinhood definition\\\", \\\"url\\\": \\\"https://en.wikipedia.org/wiki/Robin_Hood\\\", \\\"title\\\": \\\"Robin Hood\\\", \\\"snippet\\\": \\\"In popular culture, the term \\\\\\\"Robin Hood\\\\\\\" is often used to describe a heroic outlaw or rebel against tyranny. The origins of the legend as well as the ...\\\", \\\"aviod_cache\\\": false}, {\\\"query\\\": \\\"Robinhood definition\\\", \\\"url\\\": \\\"https://dictionary.cambridge.org/us/dictionary/english/robin-hood\\\", \\\"title\\\": \\\"Robin Hood | definition in the Cambridge English Dictionary\\\", \\\"snippet\\\": \\\"someone who takes money and other things from rich people in order to help other people: He is regarded by the poor as a Robin Hood who fought the ruling ...\\\", \\\"aviod_cache\\\": false}, {\\\"query\\\": \\\"Robinhood definition\\\", \\\"url\\\": \\\"https://www.dictionary.com/browse/robin-hood\\\", \\\"title\\\": \\\"ROBIN HOOD Definition & Meaning\\\", \\\"snippet\\\": \\\"Robin Hood definition: a legendary English outlaw of the 12th century, hero of many ballads, who robbed the rich to give to the poor: a popular model of ...\\\", \\\"aviod_cache\\\": false}, {\\\"query\\\": \\\"Robinhood definition\\\", \\\"url\\\": \\\"https://www.vocabulary.com/dictionary/Robin%20Hood\\\", \\\"title\\\": \\\"Robin Hood - Definition, Meaning & Synonyms\\\", \\\"snippet\\\": \\\"Definition contains. Rhymes with. Example of ... \\\\\\\"Robin Hood.\\\\\\\" Vocabulary.com Dictionary, Vocabulary.com, https://www.vocabulary.com/dictionary/Robin Hood.\\\", \\\"aviod_cache\\\": false}, {\\\"query\\\": \\\"Robinhood key features\\\", \\\"url\\\": \\\"https://robinhood.com/support/getting-started/explore-products-and-features/\\\", \\\"title\\\": \\\"Explore products and features\\\", \\\"snippet\\\": \\\"Explore products and features. Open account, pick your stock. Invite friends, pick stock. Robinhood investing accounts. Crypto trading. Options investing.\\\", \\\"aviod_cache\\\": false}, {\\\"query\\\": \\\"Robinhood key features\\\", \\\"url\\\": \\\"https://finance.yahoo.com/news/robinhood-just-announced-big-features-050317631.html\\\", \\\"title\\\": \\\"Robinhood just announced these big new features for traders\\\", \\\"snippet\\\": \\\"Robinhood just announced these big new features for traders · Robinhood's First AI Feature: Custom Scans · Robinhood Goes Social · Recommended ...\\\", \\\"aviod_cache\\\": false}, {\\\"query\\\": \\\"Robinhood key features\\\", \\\"url\\\": \\\"https://robinhood.com/us/en/about-us/\\\", \\\"title\\\": \\\"About Us\\\", \\\"snippet\\\": \\\"Sign-up for Robinhood, a pioneering commission-free investing and trading app that gives you more ways to make your money work harder.\\\", \\\"aviod_cache\\\": false}, {\\\"query\\\": \\\"Robinhood key features\\\", \\\"url\\\": \\\"https://robinhood.com/us/en/support/articles/about-strategies/\\\", \\\"title\\\": \\\"About Robinhood Strategies\\\", \\\"snippet\\\": \\\"Help Center > Robinhood Strategies. About Robinhood Strategies. About the team. About the team. Investment portfolio. Investment portfolio ...\\\", \\\"aviod_cache\\\": false}, {\\\"query\\\": \\\"Robinhood key features\\\", \\\"url\\\": \\\"https://www.benzinga.com/money/robinhood-review\\\", \\\"title\\\": \\\"Robinhood Overview: Features, Pricing and More\\\", \\\"snippet\\\": \\\"Key features that set the Robinhood app apart include customizable alerts and notifications, which allow users to stay informed about market ...\\\", \\\"aviod_cache\\\": false}]\"}\n",
      "\n",
      "data: {\"supervisor_agent\": \"**Robinhood（罗宾汉）是什么？**\\nRobinhood 是一家总部位于美国旧金山的金融科技公司，成立于 2013 年，由 Jacob F. Stoller 与 Vlad Tenev 等人共同创办。它推出了一款以移动端为主的投资交易应用，旨在让普通投资者能够轻松、低成本地参与股票、ETF、期权、加密货币等市场。\\n**核心特点（按功能分类）**\\n| 类别 | 主要功能 | 说明 |\\n|------|----------|------|\\n| **交易方式** | 免佣金交易 | 通过 Robinhood 进行股票、ETF、期权、加密货币买卖时不收取传统经纪商的手续费。 |\\n| **用户体验** | 简洁界面 | 采用极简化 UI，适合新手快速上手；提供“一键”买卖、自动复投等快捷功能。 |\\n| **金融产品** | 多元化资产 | 1) 股票、ETF 2) 期权 3) 加密货币（比特币、以太坊等） 4) 期货（部分地区） 5) 现金管理（高收益储蓄） |\\n| **账户类型** | 个人、企业 | 个人账户支持直接投资；企业账户提供团队管理、共享资产等功能。 |\\n| **资金管理** | 自动复投 | 用户可设置股息自动再投资，提升复利收益。 |\\n| **社交功能** | 社区与讨论 | 在应用内可查看同业讨论、市场热点，甚至可通过 “推文” 关注其他用户的交易动向。 |\\n| **技术创新** | AI 与数据 | 最近推出 AI 价格预测、个性化扫描、实时市场提醒等功能。 |\\n| **安全与监管** | FDIC 保障 | 账户现金存款受 FDIC 保险（最高 250,000 美元），证券受 SEC 监管。 |\\n**发展与争议**\\n- 2019 年，Robinhood 成为美国市值最高的金融科技公司之一，用户数突破 6000 万。\\n- 2021 年因 GameStop 事件受到监管关注，随后推出“暂停交易”功能，引发用户不满。\\n- 2022 年因技术故障导致数十万交易受限，随后对系统进行升级并提升服务器容量。\\n- 2023 年与多家银行合作，推出“Robinhood Bank” 以提供更完善的银行服务。\\n**总结**\\nRobinhood 通过免佣金、移动优先、易用性强的特点，改变了传统经纪商的交易模式，让更多普通人能够低门槛进入股市与加密市场。不过，用户在使用时仍需关注平台的技术稳定性、监管政策和风险管理。\"}\n",
      "\n",
      "data: {\"answer\": \"## Robinhood（罗宾汉）是什么？\\n\\nRobinhood 是一家总部位于美国旧金山的金融科技公司，成立于 2013 年，由 Jacob F. Stoller 和 Vlad Tenev 等人共同创立。其核心使命是通过技术手段降低金融投资的门槛，使普通投资者能够以更低的成本、更简便的方式参与股票、ETF、期权、加密货币等金融市场的交易活动。\\n\\n## 核心功能与特点\\n\\n以下表格总结了 Robinhood 平台的主要功能和用户关注的重点：\\n\\n| 功能类别 | 主要特点 | 说明 |\\n|----------|----------|------|\\n| **免佣金交易** | 免手续费 | 用户在 Robinhood 上进行股票、ETF、期权、加密货币交易时，不收取任何交易佣金，这在传统金融领域中是较为罕见的。 |\\n| **多样化投资产品** | 股票、ETF、期权、加密货币 | 用户可以在一个平台上交易多种金融资产，包括股票、交易所交易基金（ETF）、期权合约以及主流加密货币如比特币和以太坊。 |\\n| **移动优先设计** | UI 简洁 | 应用界面设计简洁直观，适合新手快速上手。提供“一键交易”、“自动复投”等功能，提升交易效率。 |\\n| **账户管理** | 个人与企业账户 | 提供适合个人投资者的交易账户，也支持企业账户，便于团队管理资产和共享投资组合。 |\\n| **社区互动功能** | 社交化交易 | 用户可以关注其他投资者的交易动态，讨论市场热点，甚至通过“推荐”功能分享交易策略。 |\\n| **技术创新** | AI 自动化工具 | 推出了基于 AI 的价格扫描、市场预测、智能提醒等功能，帮助用户更高效地做出投资决策。 |\\n| **安全保障** | FDIC 和 SEC 保障 | 平台受美国证券交易委员会（SEC）监管，并通过与银行合作，为用户提供 FDIC 保险（最高 250,000 美元）以保障账户资金安全。 |\\n| **扩展金融服务** | Robinhood Bank | 2023 年与多家银行合作推出“Robinhood Bank”，进一步扩展其金融服务，涵盖储蓄、转账等传统银行功能。 |\\n\\n## 发展历程与重要事件\\n\\n### 发展里程碑\\n\\n- **2013年**：公司成立，推出免佣金交易的 Robinhood 应用。\\n- **2015年**：用户突破 100 万，标志着 Robinhood 逐渐成为主流投资平台。\\n- **2019年**：用户数突破 600 万，公司市值达到数百亿美元。\\n- **2020年**：新冠疫情期间，用户数大幅增长，平台交易量激增。\\n- **2021年**：因 GameStop（GME）事件中暂停交易引发争议，引发公众和监管机构的关注。\\n- **2022年**：因技术故障和系统崩溃，平台面临用户信任危机，随后进行大规模系统升级。\\n- **2023年**：推出 Robinhood Bank，拓展金融服务边界。\\n\\n### 争议与挑战\\n\\n- **GameStop 事件（2021）**：在社交媒体推动下，散户投资者大量购买 GameStop 股票，导致股价剧烈波动。Robinhood 因技术限制暂停交易，引发用户不满和法律诉讼。\\n- **系统稳定性问题（2022）**：由于用户激增和技术压力，平台出现多次技术故障，影响了用户体验和交易效率。\\n- **监管审查增加**：随着 Robinhood 快速扩张，其业务模式和市场行为也受到 SEC 和州级监管机构的密切关注。\\n\\n## 影响与评价\\n\\nRobinhood 的出现改变了传统金融行业的格局，其“免佣金”和“移动优先”的理念吸引了大量年轻投资者和金融新手。然而，这种模式也引发了关于金融风险、投资者教育和平台责任的广泛讨论。尽管如此，Robinhood 仍然是金融科技领域最具影响力和创新性的平台之一。\\n\\n### 用户总结\\n\\nRobinhood 是一个为现代投资者提供便捷、低成本、多资产交易体验的平台，适合希望以简单方式进入金融市场的用户。但用户在使用过程中仍需关注市场风险、平台稳定性及监管变化。\"}\n",
      "\n",
      "data: {\"sources\": [{\"query\": \"Robinhood definition\", \"url\": \"https://www.merriam-webster.com/dictionary/Robin%20Hood\", \"title\": \"ROBIN HOOD Definition & Meaning\", \"snippet\": \"The meaning of ROBIN HOOD is a person or group likened to a heroic outlaw; especially : one that robs the rich and gives to the poor.\", \"aviod_cache\": false}, {\"query\": \"Robinhood definition\", \"url\": \"https://en.wikipedia.org/wiki/Robin_Hood\", \"title\": \"Robin Hood\", \"snippet\": \"In popular culture, the term \\\"Robin Hood\\\" is often used to describe a heroic outlaw or rebel against tyranny. The origins of the legend as well as the ...\", \"aviod_cache\": false}, {\"query\": \"Robinhood definition\", \"url\": \"https://dictionary.cambridge.org/us/dictionary/english/robin-hood\", \"title\": \"Robin Hood | definition in the Cambridge English Dictionary\", \"snippet\": \"someone who takes money and other things from rich people in order to help other people: He is regarded by the poor as a Robin Hood who fought the ruling ...\", \"aviod_cache\": false}, {\"query\": \"Robinhood definition\", \"url\": \"https://www.dictionary.com/browse/robin-hood\", \"title\": \"ROBIN HOOD Definition & Meaning\", \"snippet\": \"Robin Hood definition: a legendary English outlaw of the 12th century, hero of many ballads, who robbed the rich to give to the poor: a popular model of ...\", \"aviod_cache\": false}, {\"query\": \"Robinhood definition\", \"url\": \"https://www.vocabulary.com/dictionary/Robin%20Hood\", \"title\": \"Robin Hood - Definition, Meaning & Synonyms\", \"snippet\": \"Definition contains. Rhymes with. Example of ... \\\"Robin Hood.\\\" Vocabulary.com Dictionary, Vocabulary.com, https://www.vocabulary.com/dictionary/Robin Hood.\", \"aviod_cache\": false}, {\"query\": \"Robinhood key features\", \"url\": \"https://robinhood.com/support/getting-started/explore-products-and-features/\", \"title\": \"Explore products and features\", \"snippet\": \"Explore products and features. Open account, pick your stock. Invite friends, pick stock. Robinhood investing accounts. Crypto trading. Options investing.\", \"aviod_cache\": false}, {\"query\": \"Robinhood key features\", \"url\": \"https://finance.yahoo.com/news/robinhood-just-announced-big-features-050317631.html\", \"title\": \"Robinhood just announced these big new features for traders\", \"snippet\": \"Robinhood just announced these big new features for traders · Robinhood's First AI Feature: Custom Scans · Robinhood Goes Social · Recommended ...\", \"aviod_cache\": false}, {\"query\": \"Robinhood key features\", \"url\": \"https://robinhood.com/us/en/about-us/\", \"title\": \"About Us\", \"snippet\": \"Sign-up for Robinhood, a pioneering commission-free investing and trading app that gives you more ways to make your money work harder.\", \"aviod_cache\": false}, {\"query\": \"Robinhood key features\", \"url\": \"https://robinhood.com/us/en/support/articles/about-strategies/\", \"title\": \"About Robinhood Strategies\", \"snippet\": \"Help Center > Robinhood Strategies. About Robinhood Strategies. About the team. About the team. Investment portfolio. Investment portfolio ...\", \"aviod_cache\": false}, {\"query\": \"Robinhood key features\", \"url\": \"https://www.benzinga.com/money/robinhood-review\", \"title\": \"Robinhood Overview: Features, Pricing and More\", \"snippet\": \"Key features that set the Robinhood app apart include customizable alerts and notifications, which allow users to stay informed about market ...\", \"aviod_cache\": false}]}\n",
      "\n",
      "data: {\"content\": \"[DONE]\"}\n",
      "\n",
      "\n",
      "--- End of Stream ---\n"
     ]
    }
   ],
   "source": [
    "import requests\n",
    "import json\n",
    "import pprint\n",
    "\n",
    "def test_streaming_post():\n",
    "    \"\"\"\n",
    "    Sends a POST request to a streaming endpoint and prints the response chunks.\n",
    "    \"\"\"\n",
    "    url = \"http://127.0.0.1:8000/stream\"\n",
    "    payload = {\"messages\": [{\"role\": \"user\", \"content\": \"什么是robinhood？在线搜索\"}], \n",
    "               \"mode\": \"omni\"\n",
    "               }\n",
    "    headers = {\"Content-Type\": \"application/json\"}\n",
    "\n",
    "    try:\n",
    "        # The `stream=True` parameter is crucial for handling streaming responses.\n",
    "        with requests.post(url, data=json.dumps(payload), headers=headers, stream=True) as response:\n",
    "            # Check if the request was successful\n",
    "            response.raise_for_status()\n",
    "            \n",
    "            print(\"--- Streaming Response ---\")\n",
    "            # Iterate over the response content in chunks\n",
    "            for chunk in response.iter_content(chunk_size=None):\n",
    "                if chunk:\n",
    "                    # Decode bytes to string and print\n",
    "                    print(chunk.decode('utf-8'), end='')\n",
    "            print(\"\\n--- End of Stream ---\")\n",
    "\n",
    "    except requests.exceptions.RequestException as e:\n",
    "        print(f\"An error occurred: {e}\")\n",
    "\n",
    "# Run the test function\n",
    "if __name__ == \"__main__\":\n",
    "    test_streaming_post()\n"
   ]
  },
  {
   "cell_type": "code",
   "execution_count": null,
   "id": "73a64739",
   "metadata": {},
   "outputs": [],
   "source": [
    "import requests\n",
    "import json\n",
    "\n",
    "# 修正 URL（去掉多余的斜杠）\n",
    "url = \"http://127.0.0.1:8000/suggestion\"\n",
    "\n",
    "# 使用正确的 JSON 格式发送请求\n",
    "payload = {\"question\": \"请给我介绍一下成都\"}\n",
    "headers = {\"Content-Type\": \"application/json\"}\n",
    "\n",
    "response = requests.post(url, data=json.dumps(payload), headers=headers)\n",
    "\n",
    "print(\"Status Code:\", response.status_code)\n",
    "print(\"Response:\", response.json())"
   ]
  }
 ],
 "metadata": {
  "kernelspec": {
   "display_name": "venv",
   "language": "python",
   "name": "python3"
  },
  "language_info": {
   "codemirror_mode": {
    "name": "ipython",
    "version": 3
   },
   "file_extension": ".py",
   "mimetype": "text/x-python",
   "name": "python",
   "nbconvert_exporter": "python",
   "pygments_lexer": "ipython3",
   "version": "3.12.7"
  }
 },
 "nbformat": 4,
 "nbformat_minor": 5
}
