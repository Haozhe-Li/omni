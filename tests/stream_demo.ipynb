{
 "cells": [
  {
   "cell_type": "code",
   "execution_count": 3,
   "id": "ba5c9dc9",
   "metadata": {},
   "outputs": [
    {
     "name": "stdout",
     "output_type": "stream",
     "text": [
      "--- Streaming Response ---\n",
      "data: {\"supervisor_agent\": \"<delegation_instruction target='research_agent'>\\nPlease find the current stock price of Tesla, Inc. (ticker symbol TSLA) in US dollars. Provide the price as of the latest available data (today, 2025-09-11), the date and time of the price, and the source website (e.g., Yahoo Finance, Google Finance, Bloomberg, etc.).\\n</delegation_instruction>\"}\n",
      "\n",
      "data: {\"research_agent\": \"**Summary**\\nTesla, Inc. (ticker **TSLA**) traded at **$368.26** on **September 11 2025**.\\nThe price was reported at **3:58 p.m. ET** (the most recent trading time captured in the search results).\\n**Sources**\\n- **The Motley Fool** – “Why Did Tesla Stock (TSLA) Jump Today?” (https://www.fool.com/investing/2025/09/11/tesla-stock-jumps-fed-rate-cut-hopes/): price $368.26, 3:58 p.m. ET.\\n- **NASDAQ** – “Tesla, Inc. (TSLA) Stock Price, Quote, News & History” (https://www.nasdaq.com/market-activity/stocks/tsla): price $351.90, 7:04 a.m. ET.\\n**Assessment**\\n- **Usefulness & Relevance**: The Motley Fool snippet provides the most recent price for the day, making it the most relevant source for a “current” price.\\n- **Detail**: The snippet includes the exact price, date, and time, which meets the requested detail level.\\n- **Limitations**: Only a single price point is provided; no context on intraday volatility or market depth. The Nasdaq source offers an earlier price but not the latest. No official exchange feed or multiple corroborating sources are listed.\"}\n",
      "\n",
      "data: {\"supervisor_agent\": \"<delegation_instruction target='question_answering_agent'>\\nPlease provide a well-structured and comprehensive answer.\\n</delegation_instruction>\"}\n",
      "\n",
      "data: {\"question_answering_agent\": \"Okay, I need to answer the user's question about Tesla's stock price as of September 11, 2025. Let me start by looking at the data provided from the research agent. The user wants the answer in Chinese, so I'll make sure to use the correct language.\\nFirst, I'll check the information from the search results. The most recent price mentioned is $368.26 at 3:58 p.m. ET from The Motley Fool. Another source, NASDAQ, lists $351.90 at 7:04 a.m. ET. There's also a mention of $347.89 from Macrotrends as of September 10, which is a bit older. The user specifically asked for data up to September 11, so the latest date is the key here.\\nI need to present the price, date, time, and source clearly. Since The Motley Fool has the most recent time on the 11th, that should be the primary source. NASDAQ's data is also valid but from an earlier time on the same day. I should mention both sources for completeness. The Macrotrends data is from the 10th, so it's less relevant here.\\nI need to structure the answer with the price first, then the date and time, followed by the sources with links. The user wants it in Chinese, so I'll translate the terms accordingly. I should also note any discrepancies between the sources, explaining that stock prices can fluctuate throughout the day.\\nFinally, I'll summarize the information, highlighting the latest price from The Motley Fool and the earlier NASDAQ price, ensuring clarity and accuracy. Making sure the answer is concise but comprehensive, as per the user's request.\"}\n",
      "\n",
      "data: {\"answer\": \"截至**2025年9月11日**，特斯拉（Tesla, Inc.，股票代码：TSLA）的最新股价如下：\\n---\\n### **当前股价**\\n- **价格**：$368.26\\n- **时间**：2025年9月11日，东部时间（ET）下午3:58\\n- **来源**：\\n- [The Motley Fool](https://www.fool.com/investing/2025/09/11/tesla-stock-jumps-fed-rate-cut-hopes/)\\n- [NASDAQ](https://www.nasdaq.com/market-activity/stocks/tsla)（早间7:04 ET报价为$351.90）\\n---\\n### **补充说明**\\n1. **价格波动**：\\n- 当天早间，特斯拉股价在纳斯达克市场开盘时为$351.90，随后因市场对美联储降息预期的反应，价格逐步上涨至收盘前的$368.26。\\n2. **历史对比**：\\n- 截至2025年9月10日，特斯拉收盘价为$347.89（来源：[Macrotrends](https://www.macrotrends.net/stocks/charts/TSLA/tesla/stock-price-history)），表明次日（9月11日）股价明显上扬。\\n3. **市场分析**：\\n- 9月11日股价上涨主要受到美联储可能降息的预期推动，投资者对特斯拉未来现金流的折现估值提升（The Motley Fool相关报道）。\\n---\\n### **注意事项**\\n- 股票价格实时波动，以上数据为当日特定时间点的报价，不代表全天交易范围。\\n- 若需更精确的实时数据（如盘中最高/最低价），建议直接访问交易所或金融平台（如Yahoo Finance、Bloomberg）。\"}\n",
      "\n",
      "data: {\"sources\": [{\"query\": \"Tesla TSLA stock price 2025-09-11\", \"url\": \"https://finance.yahoo.com/quote/TSLA/history/\", \"title\": \"Tesla, Inc. (TSLA) Historical Data - Yahoo Finance\", \"snippet\": \"Discover historical prices for TSLA stock on Yahoo Finance. View daily, weekly or monthly format back to when Tesla, Inc. stock was issued.\", \"aviod_cache\": true}, {\"query\": \"Tesla TSLA stock price 2025-09-11\", \"url\": \"https://www.fool.com/investing/2025/09/11/tesla-stock-jumps-fed-rate-cut-hopes/\", \"title\": \"Why Did Tesla Stock (TSLA) Jump Today?\", \"snippet\": \"... Price. $368.26. Price as of September 11, 2025, 3:58 p.m. ET. It looks all but certain at this point that the Federal Reserve will soon cut ...\", \"aviod_cache\": true}, {\"query\": \"Tesla TSLA stock price 2025-09-11\", \"url\": \"https://247wallst.com/forecasts/2025/09/11/tesla-tsla-price-prediction-and-forecast/\", \"title\": \"Tesla (NASDAQ: TSLA) Stock Price Prediction and ...\", \"snippet\": \"Tesla (NASDAQ: TSLA) Stock Price Prediction and Forecast 2025-2030 (Sept 11) ... 180.0%. 2030, $11.24, $297.430 B, $1,116.86, 218.9%. Tesla Bull, ...\", \"aviod_cache\": true}, {\"query\": \"Tesla TSLA stock price 2025-09-11\", \"url\": \"https://www.macrotrends.net/stocks/charts/TSLA/tesla/stock-price-history\", \"title\": \"Tesla - 15 Year Stock Price History | TSLA\", \"snippet\": \"The latest closing stock price for Tesla as of September 10, 2025 is 347.89. An investor who bought $1,000 worth of Tesla stock at the IPO in 2010 would have ...\", \"aviod_cache\": true}, {\"query\": \"Tesla TSLA stock price 2025-09-11\", \"url\": \"https://www.nasdaq.com/market-activity/stocks/tsla\", \"title\": \"Tesla, Inc. (TSLA) Stock Price, Quote, News & History\", \"snippet\": \"Discover real-time Tesla, Inc. Common Stock (TSLA) stock prices, quotes ... Data as of Sep 11, 2025 7:04 AM ET. TSLA. Tesla, Inc. Common Stock. $351.90. + ...\", \"aviod_cache\": true}]}\n",
      "\n",
      "data: {\"content\": \"[DONE]\"}\n",
      "\n",
      "\n",
      "--- End of Stream ---\n"
     ]
    }
   ],
   "source": [
    "import requests\n",
    "import json\n",
    "import pprint\n",
    "\n",
    "def test_streaming_post():\n",
    "    \"\"\"\n",
    "    Sends a POST request to a streaming endpoint and prints the response chunks.\n",
    "    \"\"\"\n",
    "    url = \"http://127.0.0.1:8000/stream\"\n",
    "    payload = {\"messages\": [{\"role\": \"user\", \"content\": \"特斯拉的股价如何\"}], \n",
    "               \"mode\": \"omni\"\n",
    "               }\n",
    "    headers = {\"Content-Type\": \"application/json\"}\n",
    "\n",
    "    try:\n",
    "        # The `stream=True` parameter is crucial for handling streaming responses.\n",
    "        with requests.post(url, data=json.dumps(payload), headers=headers, stream=True) as response:\n",
    "            # Check if the request was successful\n",
    "            response.raise_for_status()\n",
    "            \n",
    "            print(\"--- Streaming Response ---\")\n",
    "            # Iterate over the response content in chunks\n",
    "            for chunk in response.iter_content(chunk_size=None):\n",
    "                if chunk:\n",
    "                    # Decode bytes to string and print\n",
    "                    print(chunk.decode('utf-8'), end='')\n",
    "            print(\"\\n--- End of Stream ---\")\n",
    "\n",
    "    except requests.exceptions.RequestException as e:\n",
    "        print(f\"An error occurred: {e}\")\n",
    "\n",
    "# Run the test function\n",
    "if __name__ == \"__main__\":\n",
    "    test_streaming_post()\n"
   ]
  },
  {
   "cell_type": "code",
   "execution_count": null,
   "id": "73a64739",
   "metadata": {},
   "outputs": [],
   "source": [
    "import requests\n",
    "import json\n",
    "\n",
    "# 修正 URL（去掉多余的斜杠）\n",
    "url = \"http://127.0.0.1:8000/suggestion\"\n",
    "\n",
    "# 使用正确的 JSON 格式发送请求\n",
    "payload = {\"question\": \"请给我介绍一下成都\"}\n",
    "headers = {\"Content-Type\": \"application/json\"}\n",
    "\n",
    "response = requests.post(url, data=json.dumps(payload), headers=headers)\n",
    "\n",
    "print(\"Status Code:\", response.status_code)\n",
    "print(\"Response:\", response.json())"
   ]
  }
 ],
 "metadata": {
  "kernelspec": {
   "display_name": "venv",
   "language": "python",
   "name": "python3"
  },
  "language_info": {
   "codemirror_mode": {
    "name": "ipython",
    "version": 3
   },
   "file_extension": ".py",
   "mimetype": "text/x-python",
   "name": "python",
   "nbconvert_exporter": "python",
   "pygments_lexer": "ipython3",
   "version": "3.12.7"
  }
 },
 "nbformat": 4,
 "nbformat_minor": 5
}
