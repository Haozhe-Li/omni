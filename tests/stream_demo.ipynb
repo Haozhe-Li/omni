{
 "cells": [
  {
   "cell_type": "code",
   "execution_count": 11,
   "id": "ba5c9dc9",
   "metadata": {},
   "outputs": [
    {
     "name": "stdout",
     "output_type": "stream",
     "text": [
      "--- Streaming Response ---\n",
      "data: {\"supervisor_agent\": \"<delegation_instruction target='research_agent'>\\nGenerate search queries for Google about France capital. Return snippets, titles, and URLs from multiple sources. Provide at least 5 distinct sources.\\n</delegation_instruction>\"}\n",
      "\n",
      "data: {\"research_agent\": \"[{\\\"query\\\": \\\"France capital\\\", \\\"url\\\": \\\"https://en.wikipedia.org/wiki/Paris\\\", \\\"title\\\": \\\"Paris - Wikipedia\\\", \\\"snippet\\\": \\\"Paris is the capital and largest city of France, with an estimated population of 2,048,472 in January 2025 in an area of more than 105 km2 (41 sq mi).\\\", \\\"aviod_cache\\\": true}, {\\\"query\\\": \\\"France capital\\\", \\\"url\\\": \\\"https://www.coe.int/en/web/interculturalcities/paris\\\", \\\"title\\\": \\\"Paris, France - Intercultural Cities Programme - The Council of Europe\\\", \\\"snippet\\\": \\\"Paris is the capital and most populous city of France. Situated on the Seine River, in the north of the country, it is in the centre of the Île-de-France ...\\\", \\\"aviod_cache\\\": true}, {\\\"query\\\": \\\"France capital\\\", \\\"url\\\": \\\"https://en.wikipedia.org/wiki/France\\\", \\\"title\\\": \\\"France - Wikipedia\\\", \\\"snippet\\\": \\\"France is a semi-presidential republic. Its capital, largest city and main cultural and economic centre is Paris.\\\", \\\"aviod_cache\\\": true}, {\\\"query\\\": \\\"France capital\\\", \\\"url\\\": \\\"https://www.britannica.com/place/France\\\", \\\"title\\\": \\\"France | History, Maps, Flag, Population, Cities, Capital, & Facts\\\", \\\"snippet\\\": \\\"The capital and by far the most important city of France is Paris, one of the world's preeminent cultural and commercial centres.\\\", \\\"aviod_cache\\\": true}, {\\\"query\\\": \\\"France capital\\\", \\\"url\\\": \\\"https://home.adelphi.edu/~ca19535/page%204.html\\\", \\\"title\\\": \\\"Paris facts: the capital of France in history\\\", \\\"snippet\\\": \\\"Paris is the capital of France, the largest country of Europe with 550 000 km2 (65 millions inhabitants). Paris has 2.234 million inhabitants end 2011.\\\", \\\"aviod_cache\\\": true}, {\\\"query\\\": \\\"Paris\\\", \\\"url\\\": \\\"https://en.wikipedia.org/wiki/Paris\\\", \\\"title\\\": \\\"Paris - Wikipedia\\\", \\\"snippet\\\": \\\"Paris is the capital and largest city of France, with an estimated population of 2,048,472 in January 2025 in an area of more than 105 km2 (41 sq mi).\\\", \\\"aviod_cache\\\": true}, {\\\"query\\\": \\\"Paris\\\", \\\"url\\\": \\\"https://parisjetaime.com/eng/\\\", \\\"title\\\": \\\"official website • Paris je t'aime - Tourist office\\\", \\\"snippet\\\": \\\"Walks, activities, exhibitions, ticketing, hotels, shopping, special offers, ... Everything you need to know to plan your ideal Paris city break!\\\", \\\"aviod_cache\\\": true}, {\\\"query\\\": \\\"Paris\\\", \\\"url\\\": \\\"https://unfccc.int/process-and-meetings/the-paris-agreement\\\", \\\"title\\\": \\\"The Paris Agreement | UNFCCC\\\", \\\"snippet\\\": \\\"The Paris Agreement is a legally binding international treaty on climate change. It was adopted by 195 Parties at the UN Climate Change Conference (COP21) in ...\\\", \\\"aviod_cache\\\": true}, {\\\"query\\\": \\\"Paris\\\", \\\"url\\\": \\\"https://www.tripadvisor.com/Tourism-g187147-Paris_Ile_de_France-Vacations.html\\\", \\\"title\\\": \\\"Paris, France: All You Must Know Before You Go (2025) - Tripadvisor\\\", \\\"snippet\\\": \\\"Paris is known for some of its popular attractions, which include: Eiffel Tower · Louvre Museum · Cathédrale Notre-Dame de Paris · Musée d'Orsay · Galeries ...\\\", \\\"aviod_cache\\\": true}, {\\\"query\\\": \\\"Paris\\\", \\\"url\\\": \\\"https://www.paristexas.gov/\\\", \\\"title\\\": \\\"Paris | Official Website\\\", \\\"snippet\\\": \\\"Pay a bill or ticket, permits & inspections, documents & public notices, calendar, city maps, news and upcoming events.\\\", \\\"aviod_cache\\\": true}, {\\\"query\\\": \\\"France main city\\\", \\\"url\\\": \\\"https://en.wikipedia.org/wiki/Paris\\\", \\\"title\\\": \\\"Paris - Wikipedia\\\", \\\"snippet\\\": \\\"Paris is the capital and largest city of France, with an estimated population of 2,048,472 in January 2025 in an area of more than 105 km2 (41 sq mi).\\\", \\\"aviod_cache\\\": true}, {\\\"query\\\": \\\"France main city\\\", \\\"url\\\": \\\"https://www.investmentmonitor.ai/features/largest-cities-france-investment-population/\\\", \\\"title\\\": \\\"The ten largest cities in France (and their investment strengths)\\\", \\\"snippet\\\": \\\"The ten largest cities in France are Paris, Marseille, Lyon, Toulouse, Nice, Nantes, Montpellier, Strasbourg, Bordeaux and Lille.\\\", \\\"aviod_cache\\\": true}, {\\\"query\\\": \\\"France main city\\\", \\\"url\\\": \\\"https://simple.wikipedia.org/wiki/List_of_cities_in_France\\\", \\\"title\\\": \\\"List of cities in France - Simple English Wikipedia, the free ...\\\", \\\"snippet\\\": \\\"List of cities in France ; Paris · Paris · Île-de-France ; Marseille · Bouches-du-Rhône · Provence-Alpes-Côte d'Azur ; Toulouse, Haute Garonne, Occitanie ; Lyon ...\\\", \\\"aviod_cache\\\": true}, {\\\"query\\\": \\\"France main city\\\", \\\"url\\\": \\\"http://www.citymayors.com/gratis/french_cities.html\\\", \\\"title\\\": \\\"Largest French - City Mayors\\\", \\\"snippet\\\": \\\"Paris is the only French city with a population of more than one million inhabitants underlines the continued political economic and cultural dominance of the ...\\\", \\\"aviod_cache\\\": true}, {\\\"query\\\": \\\"France main city\\\", \\\"url\\\": \\\"https://about-france.com/tourism/main-towns-cities.htm\\\", \\\"title\\\": \\\"The biggest cities and towns in France, ranked by population\\\", \\\"snippet\\\": \\\"Paris is the biggest city in France. That much is clear; but after that, classifying French towns and cities in order of size is an art, rather than a science.\\\", \\\"aviod_cache\\\": true}, {\\\"query\\\": \\\"French capital city\\\", \\\"url\\\": \\\"https://en.wikipedia.org/wiki/Paris\\\", \\\"title\\\": \\\"Paris - Wikipedia\\\", \\\"snippet\\\": \\\"Paris is the capital and largest city of France, with an estimated population of 2,048,472 in January 2025 in an area of more than 105 km2 (41 sq mi).\\\", \\\"aviod_cache\\\": true}, {\\\"query\\\": \\\"French capital city\\\", \\\"url\\\": \\\"https://www.coe.int/en/web/interculturalcities/paris\\\", \\\"title\\\": \\\"Paris, France - Intercultural Cities Programme - The Council of Europe\\\", \\\"snippet\\\": \\\"Paris is the capital and most populous city of France. Situated on the Seine River, in the north of the country, it is in the centre of the Île-de-France ...\\\", \\\"aviod_cache\\\": true}, {\\\"query\\\": \\\"French capital city\\\", \\\"url\\\": \\\"https://en.wikipedia.org/wiki/List_of_capitals_of_France\\\", \\\"title\\\": \\\"List of capitals of France - Wikipedia\\\", \\\"snippet\\\": \\\"The capital of France has been Paris since its liberation in 1944.\\\", \\\"aviod_cache\\\": true}, {\\\"query\\\": \\\"French capital city\\\", \\\"url\\\": \\\"https://www.britannica.com/place/Paris\\\", \\\"title\\\": \\\"Paris | Definition, Map, Population, Facts, & History - Britannica\\\", \\\"snippet\\\": \\\"Paris, city and capital of France, located along the Seine River, in the north-central part of the country. Paris is one of the world's most ...\\\", \\\"aviod_cache\\\": true}, {\\\"query\\\": \\\"French capital city\\\", \\\"url\\\": \\\"https://home.adelphi.edu/~ca19535/page%204.html\\\", \\\"title\\\": \\\"Paris facts: the capital of France in history\\\", \\\"snippet\\\": \\\"Paris is the capital of France, the largest country of Europe with 550 000 km2 (65 millions inhabitants). Paris has 2.234 million inhabitants end 2011.\\\", \\\"aviod_cache\\\": true}, {\\\"query\\\": \\\"France capital history\\\", \\\"url\\\": \\\"https://en.wikipedia.org/wiki/List_of_capitals_of_France\\\", \\\"title\\\": \\\"List of capitals of France - Wikipedia\\\", \\\"snippet\\\": \\\"This is a chronological list of capitals of France. The capital of France has been Paris since its liberation in 1944.\\\", \\\"aviod_cache\\\": true}, {\\\"query\\\": \\\"France capital history\\\", \\\"url\\\": \\\"https://en.wikipedia.org/wiki/Paris\\\", \\\"title\\\": \\\"Paris - Wikipedia\\\", \\\"snippet\\\": \\\"Nicknamed the City of Light, Paris has been one of the world's major centres of finance, diplomacy, commerce, culture, fashion, and gastronomy since the 17th ...\\\", \\\"aviod_cache\\\": true}, {\\\"query\\\": \\\"France capital history\\\", \\\"url\\\": \\\"http://www.paris-city.fr/GB/paris-city/au-fil-du-temps/histoire.php\\\", \\\"title\\\": \\\"The birth of the french capital - History of Paris city\\\", \\\"snippet\\\": \\\"Paris was founded in the 3rd century BC on île de la Cité by a community of Celts. They were a group of tribal fishermen called the Parisii.\\\", \\\"aviod_cache\\\": true}, {\\\"query\\\": \\\"France capital history\\\", \\\"url\\\": \\\"https://home.adelphi.edu/~ca19535/page%204.html\\\", \\\"title\\\": \\\"Paris facts: the capital of France in history\\\", \\\"snippet\\\": \\\"Paris remained the capital of France until today, with one four year interruption. During German occupation (WW2 , 1940-1944), the capital of France was Vichy.\\\", \\\"aviod_cache\\\": true}, {\\\"query\\\": \\\"France capital history\\\", \\\"url\\\": \\\"https://www.lutece-langue.com/blog/lutece-paris-history/\\\", \\\"title\\\": \\\"From Lutèce to Paris: History of the French Capital - Lutece Langue\\\", \\\"snippet\\\": \\\"From a humble riverside settlement called Lutèce to the dynamic heart of modern France, the story of Paris is one of conquest, creativity, and ...\\\", \\\"aviod_cache\\\": true}]\"}\n",
      "\n",
      "data: {\"supervisor_agent\": \"I have completed my research.\"}\n",
      "\n",
      "data: {\"answer\": \"## 法国首都是哪里\\n\\n法国的首都是**巴黎（Paris）**。巴黎是法国的政治、经济、文化和历史中心，也是全球最具影响力的都市之一。\\n\\n### 巴黎概述\\n\\n| **项目**         | **详细信息**                                                                 |\\n|------------------|------------------------------------------------------------------------------|\\n| **位置**         | 位于法国北部，塞纳河畔，地处法兰西岛大区的中心。                                |\\n| **人口**         | 根据2025年1月的估计，巴黎人口约204.8472万。                                   |\\n| **面积**         | 超过105平方公里（41平方英里）。                                               |\\n| **历史地位**     | 从1944年法国解放后，巴黎一直是国家的首都。在第二次世界大战期间（1940-1944年），首都曾短暂迁至维希（Vichy）。 |\\n| **别称**         | 巴黎被称为“光之城（City of Light）”，因其在17世纪以来在全球金融、外交、商业、文化、时尚和美食领域的重要地位。 |\\n\\n### 巴黎在法国的地位\\n\\n巴黎不仅是法国的首都，而且是该国最大的城市和最重要的文化与经济中心。法国作为欧洲最大的国家之一，拥有6500万人口，巴黎在其中扮演着核心角色。\\n\\n#### 巴黎的主要景点\\n巴黎以其丰富的历史和文化闻名，一些著名景点包括：\\n- 埃菲尔铁塔（Eiffel Tower）\\n- 卢浮宫（Louvre Museum）\\n- 巴黎圣母院（Cathédrale Notre-Dame de Paris）\\n- 奥赛博物馆（Musée d'Orsay）\\n- 伽利埃拉百货（Galeries Lafayette）\\n\\n这些景点每年吸引数百万游客，使巴黎成为世界上最受欢迎的旅游城市之一。\\n\\n### 巴黎在全球的影响\\n\\n巴黎不仅是法国的象征，也是全球艺术、时尚和文化的中心之一。其在世界范围内对建筑、艺术和生活方式的影响深远，许多国际时尚品牌和艺术机构都选择在巴黎设立总部或重要分支机构。\\n\\n### 巴黎的历史背景\\n\\n巴黎的历史可以追溯到公元前3世纪左右，当时这里是一个叫“卢特西亚（Lutèce）”的凯尔特部落聚居地。经过多个世纪的发展与变迁，巴黎逐渐成为法国的政治与文化中心，并在1944年最终确立为现代法国的首都。\\n\\n### 总结\\n\\n综上所述，法国的首都是**巴黎**。作为全球最具影响力的都市之一，巴黎不仅是法国的政治经济中心，还以其深厚的文化底蕴和丰富的历史遗产吸引着世界的目光。无论从历史、文化、艺术还是旅游的角度来看，巴黎都是一座不可忽视的城市。\"}\n",
      "\n",
      "data: {\"sources\": [{\"query\": \"France capital\", \"url\": \"https://en.wikipedia.org/wiki/Paris\", \"title\": \"Paris - Wikipedia\", \"snippet\": \"Paris is the capital and largest city of France, with an estimated population of 2,048,472 in January 2025 in an area of more than 105 km2 (41 sq mi).\", \"aviod_cache\": true}, {\"query\": \"France capital\", \"url\": \"https://www.coe.int/en/web/interculturalcities/paris\", \"title\": \"Paris, France - Intercultural Cities Programme - The Council of Europe\", \"snippet\": \"Paris is the capital and most populous city of France. Situated on the Seine River, in the north of the country, it is in the centre of the Île-de-France ...\", \"aviod_cache\": true}, {\"query\": \"France capital\", \"url\": \"https://en.wikipedia.org/wiki/France\", \"title\": \"France - Wikipedia\", \"snippet\": \"France is a semi-presidential republic. Its capital, largest city and main cultural and economic centre is Paris.\", \"aviod_cache\": true}, {\"query\": \"France capital\", \"url\": \"https://www.britannica.com/place/France\", \"title\": \"France | History, Maps, Flag, Population, Cities, Capital, & Facts\", \"snippet\": \"The capital and by far the most important city of France is Paris, one of the world's preeminent cultural and commercial centres.\", \"aviod_cache\": true}, {\"query\": \"France capital\", \"url\": \"https://home.adelphi.edu/~ca19535/page%204.html\", \"title\": \"Paris facts: the capital of France in history\", \"snippet\": \"Paris is the capital of France, the largest country of Europe with 550 000 km2 (65 millions inhabitants). Paris has 2.234 million inhabitants end 2011.\", \"aviod_cache\": true}, {\"query\": \"Paris\", \"url\": \"https://parisjetaime.com/eng/\", \"title\": \"official website • Paris je t'aime - Tourist office\", \"snippet\": \"Walks, activities, exhibitions, ticketing, hotels, shopping, special offers, ... Everything you need to know to plan your ideal Paris city break!\", \"aviod_cache\": true}, {\"query\": \"Paris\", \"url\": \"https://unfccc.int/process-and-meetings/the-paris-agreement\", \"title\": \"The Paris Agreement | UNFCCC\", \"snippet\": \"The Paris Agreement is a legally binding international treaty on climate change. It was adopted by 195 Parties at the UN Climate Change Conference (COP21) in ...\", \"aviod_cache\": true}, {\"query\": \"Paris\", \"url\": \"https://www.tripadvisor.com/Tourism-g187147-Paris_Ile_de_France-Vacations.html\", \"title\": \"Paris, France: All You Must Know Before You Go (2025) - Tripadvisor\", \"snippet\": \"Paris is known for some of its popular attractions, which include: Eiffel Tower · Louvre Museum · Cathédrale Notre-Dame de Paris · Musée d'Orsay · Galeries ...\", \"aviod_cache\": true}, {\"query\": \"Paris\", \"url\": \"https://www.paristexas.gov/\", \"title\": \"Paris | Official Website\", \"snippet\": \"Pay a bill or ticket, permits & inspections, documents & public notices, calendar, city maps, news and upcoming events.\", \"aviod_cache\": true}, {\"query\": \"France main city\", \"url\": \"https://www.investmentmonitor.ai/features/largest-cities-france-investment-population/\", \"title\": \"The ten largest cities in France (and their investment strengths)\", \"snippet\": \"The ten largest cities in France are Paris, Marseille, Lyon, Toulouse, Nice, Nantes, Montpellier, Strasbourg, Bordeaux and Lille.\", \"aviod_cache\": true}, {\"query\": \"France main city\", \"url\": \"https://simple.wikipedia.org/wiki/List_of_cities_in_France\", \"title\": \"List of cities in France - Simple English Wikipedia, the free ...\", \"snippet\": \"List of cities in France ; Paris · Paris · Île-de-France ; Marseille · Bouches-du-Rhône · Provence-Alpes-Côte d'Azur ; Toulouse, Haute Garonne, Occitanie ; Lyon ...\", \"aviod_cache\": true}, {\"query\": \"France main city\", \"url\": \"http://www.citymayors.com/gratis/french_cities.html\", \"title\": \"Largest French - City Mayors\", \"snippet\": \"Paris is the only French city with a population of more than one million inhabitants underlines the continued political economic and cultural dominance of the ...\", \"aviod_cache\": true}, {\"query\": \"France main city\", \"url\": \"https://about-france.com/tourism/main-towns-cities.htm\", \"title\": \"The biggest cities and towns in France, ranked by population\", \"snippet\": \"Paris is the biggest city in France. That much is clear; but after that, classifying French towns and cities in order of size is an art, rather than a science.\", \"aviod_cache\": true}, {\"query\": \"French capital city\", \"url\": \"https://en.wikipedia.org/wiki/List_of_capitals_of_France\", \"title\": \"List of capitals of France - Wikipedia\", \"snippet\": \"The capital of France has been Paris since its liberation in 1944.\", \"aviod_cache\": true}, {\"query\": \"French capital city\", \"url\": \"https://www.britannica.com/place/Paris\", \"title\": \"Paris | Definition, Map, Population, Facts, & History - Britannica\", \"snippet\": \"Paris, city and capital of France, located along the Seine River, in the north-central part of the country. Paris is one of the world's most ...\", \"aviod_cache\": true}, {\"query\": \"France capital history\", \"url\": \"http://www.paris-city.fr/GB/paris-city/au-fil-du-temps/histoire.php\", \"title\": \"The birth of the french capital - History of Paris city\", \"snippet\": \"Paris was founded in the 3rd century BC on île de la Cité by a community of Celts. They were a group of tribal fishermen called the Parisii.\", \"aviod_cache\": true}, {\"query\": \"France capital history\", \"url\": \"https://www.lutece-langue.com/blog/lutece-paris-history/\", \"title\": \"From Lutèce to Paris: History of the French Capital - Lutece Langue\", \"snippet\": \"From a humble riverside settlement called Lutèce to the dynamic heart of modern France, the story of Paris is one of conquest, creativity, and ...\", \"aviod_cache\": true}]}\n",
      "\n",
      "data: {\"content\": \"[DONE]\"}\n",
      "\n",
      "\n",
      "--- End of Stream ---\n"
     ]
    }
   ],
   "source": [
    "import requests\n",
    "import json\n",
    "import pprint\n",
    "\n",
    "def test_streaming_post():\n",
    "    \"\"\"\n",
    "    Sends a POST request to a streaming endpoint and prints the response chunks.\n",
    "    \"\"\"\n",
    "    url = \"http://127.0.0.1:8000/stream\"\n",
    "    payload = {\"messages\": [{\"role\": \"user\", \"content\": \"法国首都是哪里\"}], \n",
    "               \"mode\": \"omni\"\n",
    "               }\n",
    "    headers = {\"Content-Type\": \"application/json\"}\n",
    "\n",
    "    try:\n",
    "        # The `stream=True` parameter is crucial for handling streaming responses.\n",
    "        with requests.post(url, data=json.dumps(payload), headers=headers, stream=True) as response:\n",
    "            # Check if the request was successful\n",
    "            response.raise_for_status()\n",
    "            \n",
    "            print(\"--- Streaming Response ---\")\n",
    "            # Iterate over the response content in chunks\n",
    "            for chunk in response.iter_content(chunk_size=None):\n",
    "                if chunk:\n",
    "                    # Decode bytes to string and print\n",
    "                    print(chunk.decode('utf-8'), end='')\n",
    "            print(\"\\n--- End of Stream ---\")\n",
    "\n",
    "    except requests.exceptions.RequestException as e:\n",
    "        print(f\"An error occurred: {e}\")\n",
    "\n",
    "# Run the test function\n",
    "if __name__ == \"__main__\":\n",
    "    test_streaming_post()\n"
   ]
  },
  {
   "cell_type": "code",
   "execution_count": null,
   "id": "73a64739",
   "metadata": {},
   "outputs": [],
   "source": [
    "import requests\n",
    "import json\n",
    "\n",
    "# 修正 URL（去掉多余的斜杠）\n",
    "url = \"http://127.0.0.1:8000/suggestion\"\n",
    "\n",
    "# 使用正确的 JSON 格式发送请求\n",
    "payload = {\"question\": \"请给我介绍一下成都\"}\n",
    "headers = {\"Content-Type\": \"application/json\"}\n",
    "\n",
    "response = requests.post(url, data=json.dumps(payload), headers=headers)\n",
    "\n",
    "print(\"Status Code:\", response.status_code)\n",
    "print(\"Response:\", response.json())"
   ]
  }
 ],
 "metadata": {
  "kernelspec": {
   "display_name": "venv",
   "language": "python",
   "name": "python3"
  },
  "language_info": {
   "codemirror_mode": {
    "name": "ipython",
    "version": 3
   },
   "file_extension": ".py",
   "mimetype": "text/x-python",
   "name": "python",
   "nbconvert_exporter": "python",
   "pygments_lexer": "ipython3",
   "version": "3.12.7"
  }
 },
 "nbformat": 4,
 "nbformat_minor": 5
}
