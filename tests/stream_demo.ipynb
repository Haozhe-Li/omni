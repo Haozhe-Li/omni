{
 "cells": [
  {
   "cell_type": "code",
   "execution_count": 12,
   "id": "ba5c9dc9",
   "metadata": {},
   "outputs": [
    {
     "name": "stdout",
     "output_type": "stream",
     "text": [
      "--- Streaming Response ---\n",
      "data: {\"supervisor_agent\": \"<delegation_instruction target='summarizing_agent'>\\nPlease provide a comprehensive answer.\\n</delegation_instruction>\"}\n",
      "\n",
      "data: {\"summarizing_agent\": \"Okay, let's tackle this. The user is asking \\\"你是谁？\\\" which means \\\"Who are you?\\\" in Chinese. I need to respond in Chinese as per the language requirement. Since I'm part of the Omni Compound AI system, I should explain that I'm an advanced AI assistant capable of various tasks like web search, coding, reading web pages, and complex research. The user might want to know my capabilities and how I can help them. I should structure the response according to the summary/overview format. Start with an executive summary, then key concepts, and conclude with implications. Make sure to mention the Omni Compound system and the ability to disable it for simpler responses. Keep it professional and detailed, around 300-1000 words. Use clear headings and bullet points for better readability. Also, check the formatting requirements like using Markdown for headings and links. Avoid any meta-commentary and stick to the provided context. Let me put that all together now.\"}\n",
      "\n",
      "data: {\"answer\": \"## 我是Omni Compound AI系统的一部分\\n### 执行摘要\\n我是**Omni Compound AI系统**中的**总结代理**，负责将研究发现转化为结构化、专业的中文回答。作为先进的多模态AI助手，我能够执行网页搜索、代码编写、网页阅读、复杂研究等任务。用户可随时通过输入框切换模式，选择启用完整功能或简化响应。\\n---\\n### 核心能力与角色\\n#### 1. **多任务处理能力**\\n- **信息检索**：实时获取全球互联网数据（如学术论文、新闻、技术文档）。\\n- **代码生成与调试**：支持Python、JavaScript等主流编程语言，提供可执行代码及逻辑验证。\\n- **深度分析**：解析复杂问题，拆解多步骤任务并生成可操作的解决方案。\\n- **跨语言支持**：输出内容自动适配用户语言，覆盖中文、英文等主要语种。\\n#### 2. **模块化系统架构**\\n- **规划代理**：分解用户需求为子任务，协调各模块协作。\\n- **执行代理**：调用工具（如搜索引擎、API接口）完成具体操作。\\n- **总结代理（即我）**：整合信息，输出结构化报告或简洁答案。\\n---\\n### 用户交互特点\\n#### 1. **灵活性**\\n- **完整模式**：启用所有功能时，响应包含详细推理过程与数据支持。\\n- **简化模式**：用户可关闭复杂功能，获取直接答案（如单句回答）。\\n#### 2. **专业性与准确性**\\n- 严格基于提供的研究内容生成答案，避免猜测或虚构。\\n- 关键信息标注来源（如`[参考来源](URL)`），确保可追溯性。\\n---\\n### 应用场景示例\\n1. **学术研究**：快速定位论文、提取数据并生成综述。\\n2. **商业决策**：分析市场趋势、竞争对手策略，提供可视化报告。\\n3. **技术开发**：设计算法框架、调试代码、优化系统性能。\\n---\\n### 结论与价值\\n作为Omni Compound系统的核心组件，我通过模块化协作满足用户从简单查询到复杂项目的全场景需求。无论是需要深度分析的科研问题，还是日常的效率工具，均可通过灵活切换模式实现高效支持。用户可通过明确指令（如“切换为简化模式”）进一步定制交互体验。\"}\n",
      "\n",
      "data: {\"content\": \"[DONE]\"}\n",
      "\n",
      "\n",
      "--- End of Stream ---\n"
     ]
    }
   ],
   "source": [
    "import requests\n",
    "import json\n",
    "import pprint\n",
    "\n",
    "def test_streaming_post():\n",
    "    \"\"\"\n",
    "    Sends a POST request to a streaming endpoint and prints the response chunks.\n",
    "    \"\"\"\n",
    "    url = \"http://127.0.0.1:8000/stream\"\n",
    "    payload = {\"messages\": [{\"role\": \"user\", \"content\": \"你是谁？\"}], \n",
    "               \"mode\": \"omni\"\n",
    "               }\n",
    "    headers = {\"Content-Type\": \"application/json\"}\n",
    "\n",
    "    try:\n",
    "        # The `stream=True` parameter is crucial for handling streaming responses.\n",
    "        with requests.post(url, data=json.dumps(payload), headers=headers, stream=True) as response:\n",
    "            # Check if the request was successful\n",
    "            response.raise_for_status()\n",
    "            \n",
    "            print(\"--- Streaming Response ---\")\n",
    "            # Iterate over the response content in chunks\n",
    "            for chunk in response.iter_content(chunk_size=None):\n",
    "                if chunk:\n",
    "                    # Decode bytes to string and print\n",
    "                    print(chunk.decode('utf-8'), end='')\n",
    "            print(\"\\n--- End of Stream ---\")\n",
    "\n",
    "    except requests.exceptions.RequestException as e:\n",
    "        print(f\"An error occurred: {e}\")\n",
    "\n",
    "# Run the test function\n",
    "if __name__ == \"__main__\":\n",
    "    test_streaming_post()\n"
   ]
  },
  {
   "cell_type": "code",
   "execution_count": null,
   "id": "73a64739",
   "metadata": {},
   "outputs": [],
   "source": [
    "import requests\n",
    "import json\n",
    "\n",
    "# 修正 URL（去掉多余的斜杠）\n",
    "url = \"http://127.0.0.1:8000/suggestion\"\n",
    "\n",
    "# 使用正确的 JSON 格式发送请求\n",
    "payload = {\"question\": \"请给我介绍一下成都\"}\n",
    "headers = {\"Content-Type\": \"application/json\"}\n",
    "\n",
    "response = requests.post(url, data=json.dumps(payload), headers=headers)\n",
    "\n",
    "print(\"Status Code:\", response.status_code)\n",
    "print(\"Response:\", response.json())"
   ]
  }
 ],
 "metadata": {
  "kernelspec": {
   "display_name": "venv",
   "language": "python",
   "name": "python3"
  },
  "language_info": {
   "codemirror_mode": {
    "name": "ipython",
    "version": 3
   },
   "file_extension": ".py",
   "mimetype": "text/x-python",
   "name": "python",
   "nbconvert_exporter": "python",
   "pygments_lexer": "ipython3",
   "version": "3.12.7"
  }
 },
 "nbformat": 4,
 "nbformat_minor": 5
}
