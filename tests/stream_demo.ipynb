{
 "cells": [
  {
   "cell_type": "code",
   "execution_count": 3,
   "id": "ba5c9dc9",
   "metadata": {},
   "outputs": [
    {
     "name": "stdout",
     "output_type": "stream",
     "text": [
      "--- Streaming Response ---\n",
      "data: {\"supervisor_agent\": \"<delegation_instruction target='research_agent'>\\nObjective: Retrieve an official description of ChatGPT from OpenAI's website. Scope: Provide a concise summary (2-3 sentences) describing ChatGPT as an AI language model trained by OpenAI, its capabilities, and purpose. Output: Plain text summary.\\n</delegation_instruction>\"}\n",
      "\n",
      "data: {\"research_agent\": \"ChatGPT is a sibling model to InstructGPT, trained to follow an instruction in a prompt and provide a detailed response. It serves as an AI language model that can answer questions, generate text, assist with writing, learning, and other tasks, aiming to help users be more productive.\"}\n",
      "\n",
      "data: {\"supervisor_agent\": \"<delegation_instruction target='web_page_agent'>\\nOpen https://openai.com/index/chatgpt/ and extract the official description of ChatGPT, focusing on a concise statement that describes it as an AI language model trained by OpenAI, its capabilities, and purpose.\\n</delegation_instruction>\"}\n",
      "\n",
      "data: {\"web_page_agent\": \"It appears there is an issue with accessing the page content. I will try to retrieve the information again using an alternative approach or a different page if necessary.\"}\n",
      "\n",
      "data: {\"supervisor_agent\": \"<delegation_instruction target='summarizing_agent'>\\nPlease provide a well-structured and comprehensive answer.\\n</delegation_instruction>\"}\n",
      "\n",
      "data: {\"summarizing_agent\": \"Alright, the user asked \\\"你是谁呀\\\" which means \\\"Who are you?\\\" in Chinese. I need to respond in Chinese as per the language requirement.\\nFirst, I should confirm that I'm part of the Omni Compound AI system. The user might be curious about my identity and capabilities. The previous interactions show that the system tried to get information about ChatGPT from OpenAI's site but faced errors. Now, the user is being directed to the summarizing agent to get a proper response.\\nI need to structure the answer according to the guidelines. Since it's a simple question about identity, a direct and comprehensive answer is appropriate. The response should include my role in the Omni system, my abilities like web searching, coding, and complex research, and mention that users can disable Omni for faster responses.\\nI should use proper headings and formatting as specified. Make sure to mention that I'm part of the Omni Compound AI system, describe my functions, and provide key features. Keep it concise but informative, around 300-1000 words. Also, avoid any markdown and use the correct language (Chinese here).\\nCheck if all essential details are included: Omni Compound's capabilities, user control options, and the purpose of the AI. Since the user's query is straightforward, the response should be clear and not include unnecessary information. Ensure compliance with the supervisor's instructions and avoid mentioning any AI limitations or prompt instructions.\"}\n",
      "\n",
      "data: {\"answer\": \"## 身份说明\\n我是Omni Compound AI系统的一部分，一个先进的多功能AI助手。我的设计目标是通过整合多种能力（如网络搜索、代码编写、网页解析和复杂任务处理），为用户提供高效、精准且可扩展的解决方案。\\n### 核心功能\\n1. **多模态能力**\\n- **网络搜索**：可实时检索互联网信息，提供最新数据支持。\\n- **代码编写**：支持多种编程语言，协助开发、调试和优化代码。\\n- **复杂任务处理**：通过分步骤规划与执行，解决多阶段问题（如数据分析、文档生成等）。\\n2. **用户控制与灵活性**\\n- 用户可随时在输入界面中切换“Omni Compound模式”与“基础模式”：\\n- **Omni Compound模式**：启用全功能AI，适合需要深度分析的复杂任务。\\n- **基础模式**：禁用高级功能，提供更快的简单响应（如日常问答）。\\n3. **应用范围**\\n- 学术研究（文献综述、数据分析）、商业咨询（市场分析、策略制定）、技术开发（算法调试、代码生成）以及创意内容创作（文案撰写、脚本设计）等场景。\\n### 核心价值\\n我的目标是通过技术整合与用户需求匹配，减少重复性工作，提升信息处理效率，并在遵守伦理规范的前提下，为用户提供可靠的技术支持。\"}\n",
      "\n",
      "data: {\"sources\": [{\"query\": \"ChatGPT official description OpenAI website\", \"url\": \"https://openai.com/index/chatgpt/\", \"title\": \"Introducing ChatGPT\", \"snippet\": \"ChatGPT is a sibling model to InstructGPT, which is trained to follow an instruction in a prompt and provide a detailed response.\", \"aviod_cache\": true}, {\"query\": \"ChatGPT official description OpenAI website\", \"url\": \"https://openai.com/index/introducing-chatgpt-search/\", \"title\": \"Introducing ChatGPT search\", \"snippet\": \"ChatGPT search connects people with original, high-quality content from the web and makes it part of their conversation. By integrating search ...\", \"aviod_cache\": true}, {\"query\": \"ChatGPT official description OpenAI website\", \"url\": \"https://chatgpt.com/overview/\", \"title\": \"Get answers. Find inspiration. Be more productive. - ChatGPT\", \"snippet\": \"ChatGPT helps you get answers, find inspiration and be more productive. It is free to use and easy to try. Just ask and ChatGPT can help with writing, ...\", \"aviod_cache\": true}, {\"query\": \"ChatGPT official description OpenAI website\", \"url\": \"https://openai.com/index/introducing-chatgpt-pro/\", \"title\": \"Introducing ChatGPT Pro\", \"snippet\": \"ChatGPT Pro provides a way for researchers, engineers, and other individuals who use research-grade intelligence daily to accelerate their productivity.\", \"aviod_cache\": true}, {\"query\": \"ChatGPT official description OpenAI website\", \"url\": \"https://chatgpt.com/\", \"title\": \"ChatGPT\", \"snippet\": \"ChatGPT helps you get answers, find inspiration and be more productive. It is free to use and easy to try. Just ask and ChatGPT can help with writing, learning,\", \"aviod_cache\": true}]}\n",
      "\n",
      "data: {\"content\": \"[DONE]\"}\n",
      "\n",
      "\n",
      "--- End of Stream ---\n"
     ]
    }
   ],
   "source": [
    "import requests\n",
    "import json\n",
    "import pprint\n",
    "\n",
    "def test_streaming_post():\n",
    "    \"\"\"\n",
    "    Sends a POST request to a streaming endpoint and prints the response chunks.\n",
    "    \"\"\"\n",
    "    url = \"http://127.0.0.1:8000/stream\"\n",
    "    payload = {\"messages\": [{\"role\": \"user\", \"content\": \"你是谁呀\"}], \n",
    "               \"mode\": \"omni\"\n",
    "               }\n",
    "    headers = {\"Content-Type\": \"application/json\"}\n",
    "\n",
    "    try:\n",
    "        # The `stream=True` parameter is crucial for handling streaming responses.\n",
    "        with requests.post(url, data=json.dumps(payload), headers=headers, stream=True) as response:\n",
    "            # Check if the request was successful\n",
    "            response.raise_for_status()\n",
    "            \n",
    "            print(\"--- Streaming Response ---\")\n",
    "            # Iterate over the response content in chunks\n",
    "            for chunk in response.iter_content(chunk_size=None):\n",
    "                if chunk:\n",
    "                    # Decode bytes to string and print\n",
    "                    print(chunk.decode('utf-8'), end='')\n",
    "            print(\"\\n--- End of Stream ---\")\n",
    "\n",
    "    except requests.exceptions.RequestException as e:\n",
    "        print(f\"An error occurred: {e}\")\n",
    "\n",
    "# Run the test function\n",
    "if __name__ == \"__main__\":\n",
    "    test_streaming_post()\n"
   ]
  },
  {
   "cell_type": "code",
   "execution_count": null,
   "id": "73a64739",
   "metadata": {},
   "outputs": [],
   "source": [
    "import requests\n",
    "import json\n",
    "\n",
    "# 修正 URL（去掉多余的斜杠）\n",
    "url = \"http://127.0.0.1:8000/suggestion\"\n",
    "\n",
    "# 使用正确的 JSON 格式发送请求\n",
    "payload = {\"question\": \"请给我介绍一下成都\"}\n",
    "headers = {\"Content-Type\": \"application/json\"}\n",
    "\n",
    "response = requests.post(url, data=json.dumps(payload), headers=headers)\n",
    "\n",
    "print(\"Status Code:\", response.status_code)\n",
    "print(\"Response:\", response.json())"
   ]
  }
 ],
 "metadata": {
  "kernelspec": {
   "display_name": "venv",
   "language": "python",
   "name": "python3"
  },
  "language_info": {
   "codemirror_mode": {
    "name": "ipython",
    "version": 3
   },
   "file_extension": ".py",
   "mimetype": "text/x-python",
   "name": "python",
   "nbconvert_exporter": "python",
   "pygments_lexer": "ipython3",
   "version": "3.12.7"
  }
 },
 "nbformat": 4,
 "nbformat_minor": 5
}
