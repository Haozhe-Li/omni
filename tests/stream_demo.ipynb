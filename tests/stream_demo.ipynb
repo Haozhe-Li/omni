{
 "cells": [
  {
   "cell_type": "code",
   "execution_count": 7,
   "id": "ba5c9dc9",
   "metadata": {},
   "outputs": [
    {
     "name": "stdout",
     "output_type": "stream",
     "text": [
      "--- Streaming Response ---\n",
      "data: {\"supervisor_agent\": \"<delegation_instruction target='summarizing_agent'>\\nPlease provide a well-structured and comprehensive answer.\\n</delegation_instruction>\"}\n",
      "\n",
      "data: {\"summarizing_agent\": \"Okay, the user asked \\\"你是谁！\\\" which means \\\"Who are you?\\\" in Chinese. I need to respond in Chinese as per the language requirement.\\nFirst, I should introduce the Omni Compound AI system. Mention that I'm part of it and explain the system's capabilities like web searching, coding, reading web pages, and complex research. Highlight that users can disable Omni Compound for faster responses if needed.\\nNext, clarify my role as the summarizing agent. I need to structure the response with the user's query in mind. The answer should be in Chinese, concise, and follow the specified format with sections and subheadings. Since it's a simple question, maybe a single section would suffice, but the user might expect a bit more structure. Let me check the response structure guidelines again.\\nWait, the user provided a delegation instruction asking for a well-structured and comprehensive answer. So even though it's a simple question, I should follow the summary/overview structure. That includes an executive summary, key concepts, and conclusions. Let me outline that.\\nExecutive Summary: Briefly state who I am and my role. Key Concepts: Break down the Omni Compound system, my role as a summarizing agent, and the response structure. Conclusions: Summarize the main points and reiterate the assistance offered.\\nMake sure to use proper Chinese terminology and keep the tone professional yet clear. Avoid any technical jargon that might confuse the user. Also, ensure that the answer is comprehensive but not overly detailed. Check for any formatting issues, like using the correct headings with \\\"##\\\" and \\\"###\\\" as specified.\\nDouble-check the content standards: comprehensive, specific, professional, balanced, detailed. Since the user wants a concise answer, balance between being thorough and concise. Include all necessary context about the Omni Compound AI system and my role within it. Avoid mentioning any internal instructions or limitations.\\nFinally, verify that the response is in Chinese and matches the user's language exactly. No markdown except for the headings as per the example. Ensure the links are in the correct format if any are included, but since the user's question doesn't require external links, maybe none are needed here.\\nAlright, time to put it all together in a structured, clear response.\"}\n",
      "\n",
      "data: {\"answer\": \"## 我是 Omni Compound AI 系统\\n### 1. 系统身份说明\\n我是 **Omni Compound AI 系统** 的组成部分，一个具备多模态能力的先进人工智能助手。本系统的核心功能包括：\\n- **网络搜索**：实时获取全球信息\\n- **代码编写**：支持多种编程语言的开发与调试\\n- **网页解析**：精准提取非结构化数据\\n- **复杂研究**：通过多步骤逻辑推理解决深度问题\\n- **跨语言处理**：支持 100+ 种语言的自然交互\\n用户可通过简单指令（如 `Disable Omni Compound`）在基础模式与高级模式间切换，以平衡响应速度与功能深度。\\n### 2. 核心角色定义\\n作为 **总结代理（Summarizing Agent）**，我的职责是：\\n1. **信息整合**：从多源数据中提取关键洞见\\n2. **结构化输出**：按用户需求生成报告、对比分析或知识图谱\\n3. **专业呈现**：使用逻辑分层、数据可视化建议（如表格/代码块）提升可读性\\n4. **语言适配**：严格遵循用户输入语言，支持中/英/日/韩等 30+ 语言的精准响应\\n### 3. 响应范式示例\\n针对用户的问题，系统会自动匹配最佳结构：\\n- **对比类问题**：采用分点对比 + 维度权重分析\\n- **列表类问题**：生成属性表格并补充典型场景案例\\n- **综合概述**：通过「关键概念 → 核心原理 → 应用边界」三层递进\\n- **技术类问题**：嵌入伪代码或架构图注释\\n### 4. 服务边界说明\\n- **合规保障**：所有输出基于可验证数据源，拒绝生成争议性内容\\n- **安全机制**：涉及敏感领域（如医疗/金融）时，自动标注「建议咨询专业人士」\\n- **迭代承诺**：每日更新知识库至最新学术与行业动态\\n> **提示**：如需更精确的交互，可明确指定输出格式（如 `请用表格对比A与B`）或提供背景约束条件。\"}\n",
      "\n",
      "data: {\"content\": \"[DONE]\"}\n",
      "\n",
      "\n",
      "--- End of Stream ---\n"
     ]
    }
   ],
   "source": [
    "import requests\n",
    "import json\n",
    "import pprint\n",
    "\n",
    "def test_streaming_post():\n",
    "    \"\"\"\n",
    "    Sends a POST request to a streaming endpoint and prints the response chunks.\n",
    "    \"\"\"\n",
    "    url = \"http://127.0.0.1:8000/stream\"\n",
    "    payload = {\"messages\": [{\"role\": \"user\", \"content\": \"你是谁！\"}], \n",
    "               \"mode\": \"omni\"\n",
    "               }\n",
    "    headers = {\"Content-Type\": \"application/json\"}\n",
    "\n",
    "    try:\n",
    "        # The `stream=True` parameter is crucial for handling streaming responses.\n",
    "        with requests.post(url, data=json.dumps(payload), headers=headers, stream=True) as response:\n",
    "            # Check if the request was successful\n",
    "            response.raise_for_status()\n",
    "            \n",
    "            print(\"--- Streaming Response ---\")\n",
    "            # Iterate over the response content in chunks\n",
    "            for chunk in response.iter_content(chunk_size=None):\n",
    "                if chunk:\n",
    "                    # Decode bytes to string and print\n",
    "                    print(chunk.decode('utf-8'), end='')\n",
    "            print(\"\\n--- End of Stream ---\")\n",
    "\n",
    "    except requests.exceptions.RequestException as e:\n",
    "        print(f\"An error occurred: {e}\")\n",
    "\n",
    "# Run the test function\n",
    "if __name__ == \"__main__\":\n",
    "    test_streaming_post()\n"
   ]
  },
  {
   "cell_type": "code",
   "execution_count": null,
   "id": "73a64739",
   "metadata": {},
   "outputs": [],
   "source": [
    "import requests\n",
    "import json\n",
    "\n",
    "# 修正 URL（去掉多余的斜杠）\n",
    "url = \"http://127.0.0.1:8000/suggestion\"\n",
    "\n",
    "# 使用正确的 JSON 格式发送请求\n",
    "payload = {\"question\": \"请给我介绍一下成都\"}\n",
    "headers = {\"Content-Type\": \"application/json\"}\n",
    "\n",
    "response = requests.post(url, data=json.dumps(payload), headers=headers)\n",
    "\n",
    "print(\"Status Code:\", response.status_code)\n",
    "print(\"Response:\", response.json())"
   ]
  }
 ],
 "metadata": {
  "kernelspec": {
   "display_name": "venv",
   "language": "python",
   "name": "python3"
  },
  "language_info": {
   "codemirror_mode": {
    "name": "ipython",
    "version": 3
   },
   "file_extension": ".py",
   "mimetype": "text/x-python",
   "name": "python",
   "nbconvert_exporter": "python",
   "pygments_lexer": "ipython3",
   "version": "3.12.7"
  }
 },
 "nbformat": 4,
 "nbformat_minor": 5
}
