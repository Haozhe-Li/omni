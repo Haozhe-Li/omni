{
 "cells": [
  {
   "cell_type": "code",
   "execution_count": 6,
   "id": "ba5c9dc9",
   "metadata": {},
   "outputs": [
    {
     "name": "stdout",
     "output_type": "stream",
     "text": [
      "--- Streaming Response ---\n",
      "data: {\"tool\": \"<delegation_instruction target='research_agent'>\\nProvide a brief overview of Tesla, Inc., focusing on its core business (electric vehicles and energy products), founding year, CEO, and market position. Return a concise paragraph of 3-4 sentences.\\n</delegation_instruction>\"}\n",
      "\n",
      "data: {\"tool\": \"Name: research_agent\\n\\nTesla, Inc. is an American company founded in 2003 that specializes in electric vehicles, solar panels, and energy storage solutions. It was initially founded by Martin Eberhard and Marc Tarpenning, with Elon Musk becoming CEO in 2008. Tesla is known for its innovative electric cars and energy products, and it holds a significant position in the electric vehicle market. The company is named after Nikola Tesla, the inventor and electrical engineer, and has grown to become a major player in sustainable energy and transportation.\"}\n",
      "\n",
      "data: {\"tool\": \"<delegation_instruction target='summarizing_agent'>\\nProvide a concise overview of Tesla, Inc. in 3-4 sentences, covering its core business (electric vehicles and energy products), founding year, CEO, and market position.\\n</delegation_instruction>\"}\n",
      "\n",
      "data: {\"tool\": \"\\nOkay, let's tackle this query. The user wants a concise overview of Tesla, Inc. in 3-4 sentences. They specified covering core business, founding year, CEO, and market position.\\n\\nFirst, I need to recall the research findings provided earlier. The sources mention Tesla was founded in 2003 by Martin Eberhard and Marc Tarpenning, but Elon Musk became a key figure, leading the first funding round and becoming chairman in 2004, then CEO in 2008. The core businesses are electric vehicles, solar panels, and energy storage. The company is named after Nikola Tesla. Market position: a major player in EV and sustainable energy, with significant influence.\\n\\nNow, I need to condense this into 3-4 sentences. Start with the founding details, mention the founders, then the core business areas. Include Elon Musk as CEO since 2008. Highlight the market position as a leader in EV and energy solutions. Make sure it's concise and flows well. Check for any key points missed, like the tribute to Nikola Tesla. Also, ensure the word count is within 3-4 sentences. Avoid adding extra info not in the research. Double-check the founding year and CEO start date. Alright, that should cover it.\\n\"}\n",
      "\n",
      "data: {\"answer\": \"Tesla, Inc., founded in 2003 by Martin Eberhard and Marc Tarpenning, is a leading American company specializing in electric vehicles (EVs), solar energy products, and energy storage systems. Elon Musk, who became CEO in 2008, plays a central role in its vision, positioning Tesla as a pioneer in sustainable transportation and renewable energy. The company is named after inventor Nikola Tesla and holds a dominant market position in the EV industry, alongside significant influence in global clean energy innovation.\"}\n",
      "\n",
      "data: {\"sources\": [{\"query\": \"Tesla, Inc. overview, core business, founding year, CEO, market position\", \"url\": \"https://en.wikipedia.org/wiki/Tesla,_Inc.\", \"title\": \"Tesla, Inc.\", \"snippet\": \"In February 2004, Elon Musk led Tesla's first funding round and became the company's chairman; in 2008, he was named chief executive officer. In 2008, the ...\", \"aviod_cache\": false}, {\"query\": \"Tesla, Inc. overview, core business, founding year, CEO, market position\", \"url\": \"https://www.britannica.com/money/Tesla-Motors\", \"title\": \"Tesla, Inc. | History, Cars, Elon Musk, & Facts\", \"snippet\": \"Tesla is an American company that makes electric vehicles, solar panels, and batteries. Founded in 2003, it's led by CEO Elon Musk and named after inventor ...\", \"aviod_cache\": false}, {\"query\": \"Tesla, Inc. overview, core business, founding year, CEO, market position\", \"url\": \"https://finance.yahoo.com/quote/TSLA/profile/\", \"title\": \"Tesla, Inc. (TSLA) Company Profile & Facts - Yahoo Finance\", \"snippet\": \"Year Born. Mr. Elon R. Musk, Co-Founder, Technoking of Tesla, CEO & Director, --, --, 1971. Mr. Vaibhav Taneja, Chief Financial Officer, 306.85k, 9.65M, 1978.\", \"aviod_cache\": false}, {\"query\": \"Tesla, Inc. overview, core business, founding year, CEO, market position\", \"url\": \"https://www.investopedia.com/articles/personal-finance/061915/story-behind-teslas-success.asp\", \"title\": \"Tesla: The True Untold Story\", \"snippet\": \"Martin Eberhard and Marc Tarpenning founded Tesla Motors in July 2003, choosing the company name as a tribute to the inventor and electrical engineer Nikola ...\", \"aviod_cache\": false}, {\"query\": \"Tesla, Inc. overview, core business, founding year, CEO, market position\", \"url\": \"https://bytebridge.medium.com/tesla-milestones-strategy-and-market-dynamics-096c6701258f\", \"title\": \"Tesla: Milestones, Strategy, and Market Dynamics - ByteBridge\", \"snippet\": \"Tesla, Inc. was founded in July 2003 by engineers Martin Eberhard and Marc Tarpenning in San Carlos, California, originally incorporated as ...\", \"aviod_cache\": false}]}\n",
      "\n",
      "data: {\"content\": \"[DONE]\"}\n",
      "\n",
      "\n",
      "--- End of Stream ---\n"
     ]
    }
   ],
   "source": [
    "import requests\n",
    "import json\n",
    "import pprint\n",
    "\n",
    "def test_streaming_post():\n",
    "    \"\"\"\n",
    "    Sends a POST request to a streaming endpoint and prints the response chunks.\n",
    "    \"\"\"\n",
    "    url = \"http://127.0.0.1:8000/stream\"\n",
    "    payload = {\"messages\": [{\"role\": \"user\", \"content\": \"what is tesla?\"}], \"mode\": \"omni\"}\n",
    "    headers = {\"Content-Type\": \"application/json\"}\n",
    "\n",
    "    try:\n",
    "        # The `stream=True` parameter is crucial for handling streaming responses.\n",
    "        with requests.post(url, data=json.dumps(payload), headers=headers, stream=True) as response:\n",
    "            # Check if the request was successful\n",
    "            response.raise_for_status()\n",
    "            \n",
    "            print(\"--- Streaming Response ---\")\n",
    "            # Iterate over the response content in chunks\n",
    "            for chunk in response.iter_content(chunk_size=None):\n",
    "                if chunk:\n",
    "                    # Decode bytes to string and print\n",
    "                    print(chunk.decode('utf-8'), end='')\n",
    "            print(\"\\n--- End of Stream ---\")\n",
    "\n",
    "    except requests.exceptions.RequestException as e:\n",
    "        print(f\"An error occurred: {e}\")\n",
    "\n",
    "# Run the test function\n",
    "if __name__ == \"__main__\":\n",
    "    test_streaming_post()\n"
   ]
  },
  {
   "cell_type": "code",
   "execution_count": 28,
   "id": "6613ace2",
   "metadata": {},
   "outputs": [
    {
     "name": "stdout",
     "output_type": "stream",
     "text": [
      "[{\"messages\": [{\"role\": \"user\", \"content\": \"请给我介绍一下成都\"}]}]\n"
     ]
    }
   ],
   "source": [
    "import json\n",
    "query_data = (\n",
    "    {\n",
    "        \"messages\": [\n",
    "            {\n",
    "                \"role\": \"user\",\n",
    "                \"content\": \"请给我介绍一下成都\",\n",
    "            }\n",
    "        ]\n",
    "    },\n",
    ")\n",
    "\n",
    "# load it as json\n",
    "query_data_json = json.dumps(query_data, ensure_ascii=False)\n",
    "print(query_data_json)"
   ]
  },
  {
   "cell_type": "code",
   "execution_count": 3,
   "id": "73a64739",
   "metadata": {},
   "outputs": [
    {
     "name": "stdout",
     "output_type": "stream",
     "text": [
      "Status Code: 500\n"
     ]
    },
    {
     "ename": "JSONDecodeError",
     "evalue": "Expecting value: line 1 column 1 (char 0)",
     "output_type": "error",
     "traceback": [
      "\u001b[31m---------------------------------------------------------------------------\u001b[39m",
      "\u001b[31mJSONDecodeError\u001b[39m                           Traceback (most recent call last)",
      "\u001b[36mFile \u001b[39m\u001b[32m~/Coding/omni/venv/lib/python3.12/site-packages/requests/models.py:976\u001b[39m, in \u001b[36mResponse.json\u001b[39m\u001b[34m(self, **kwargs)\u001b[39m\n\u001b[32m    975\u001b[39m \u001b[38;5;28;01mtry\u001b[39;00m:\n\u001b[32m--> \u001b[39m\u001b[32m976\u001b[39m     \u001b[38;5;28;01mreturn\u001b[39;00m \u001b[43mcomplexjson\u001b[49m\u001b[43m.\u001b[49m\u001b[43mloads\u001b[49m\u001b[43m(\u001b[49m\u001b[38;5;28;43mself\u001b[39;49m\u001b[43m.\u001b[49m\u001b[43mtext\u001b[49m\u001b[43m,\u001b[49m\u001b[43m \u001b[49m\u001b[43m*\u001b[49m\u001b[43m*\u001b[49m\u001b[43mkwargs\u001b[49m\u001b[43m)\u001b[49m\n\u001b[32m    977\u001b[39m \u001b[38;5;28;01mexcept\u001b[39;00m JSONDecodeError \u001b[38;5;28;01mas\u001b[39;00m e:\n\u001b[32m    978\u001b[39m     \u001b[38;5;66;03m# Catch JSON-related errors and raise as requests.JSONDecodeError\u001b[39;00m\n\u001b[32m    979\u001b[39m     \u001b[38;5;66;03m# This aliases json.JSONDecodeError and simplejson.JSONDecodeError\u001b[39;00m\n",
      "\u001b[36mFile \u001b[39m\u001b[32m/opt/anaconda3/lib/python3.12/json/__init__.py:346\u001b[39m, in \u001b[36mloads\u001b[39m\u001b[34m(s, cls, object_hook, parse_float, parse_int, parse_constant, object_pairs_hook, **kw)\u001b[39m\n\u001b[32m    343\u001b[39m \u001b[38;5;28;01mif\u001b[39;00m (\u001b[38;5;28mcls\u001b[39m \u001b[38;5;129;01mis\u001b[39;00m \u001b[38;5;28;01mNone\u001b[39;00m \u001b[38;5;129;01mand\u001b[39;00m object_hook \u001b[38;5;129;01mis\u001b[39;00m \u001b[38;5;28;01mNone\u001b[39;00m \u001b[38;5;129;01mand\u001b[39;00m\n\u001b[32m    344\u001b[39m         parse_int \u001b[38;5;129;01mis\u001b[39;00m \u001b[38;5;28;01mNone\u001b[39;00m \u001b[38;5;129;01mand\u001b[39;00m parse_float \u001b[38;5;129;01mis\u001b[39;00m \u001b[38;5;28;01mNone\u001b[39;00m \u001b[38;5;129;01mand\u001b[39;00m\n\u001b[32m    345\u001b[39m         parse_constant \u001b[38;5;129;01mis\u001b[39;00m \u001b[38;5;28;01mNone\u001b[39;00m \u001b[38;5;129;01mand\u001b[39;00m object_pairs_hook \u001b[38;5;129;01mis\u001b[39;00m \u001b[38;5;28;01mNone\u001b[39;00m \u001b[38;5;129;01mand\u001b[39;00m \u001b[38;5;129;01mnot\u001b[39;00m kw):\n\u001b[32m--> \u001b[39m\u001b[32m346\u001b[39m     \u001b[38;5;28;01mreturn\u001b[39;00m \u001b[43m_default_decoder\u001b[49m\u001b[43m.\u001b[49m\u001b[43mdecode\u001b[49m\u001b[43m(\u001b[49m\u001b[43ms\u001b[49m\u001b[43m)\u001b[49m\n\u001b[32m    347\u001b[39m \u001b[38;5;28;01mif\u001b[39;00m \u001b[38;5;28mcls\u001b[39m \u001b[38;5;129;01mis\u001b[39;00m \u001b[38;5;28;01mNone\u001b[39;00m:\n",
      "\u001b[36mFile \u001b[39m\u001b[32m/opt/anaconda3/lib/python3.12/json/decoder.py:337\u001b[39m, in \u001b[36mJSONDecoder.decode\u001b[39m\u001b[34m(self, s, _w)\u001b[39m\n\u001b[32m    333\u001b[39m \u001b[38;5;250m\u001b[39m\u001b[33;03m\"\"\"Return the Python representation of ``s`` (a ``str`` instance\u001b[39;00m\n\u001b[32m    334\u001b[39m \u001b[33;03mcontaining a JSON document).\u001b[39;00m\n\u001b[32m    335\u001b[39m \n\u001b[32m    336\u001b[39m \u001b[33;03m\"\"\"\u001b[39;00m\n\u001b[32m--> \u001b[39m\u001b[32m337\u001b[39m obj, end = \u001b[38;5;28;43mself\u001b[39;49m\u001b[43m.\u001b[49m\u001b[43mraw_decode\u001b[49m\u001b[43m(\u001b[49m\u001b[43ms\u001b[49m\u001b[43m,\u001b[49m\u001b[43m \u001b[49m\u001b[43midx\u001b[49m\u001b[43m=\u001b[49m\u001b[43m_w\u001b[49m\u001b[43m(\u001b[49m\u001b[43ms\u001b[49m\u001b[43m,\u001b[49m\u001b[43m \u001b[49m\u001b[32;43m0\u001b[39;49m\u001b[43m)\u001b[49m\u001b[43m.\u001b[49m\u001b[43mend\u001b[49m\u001b[43m(\u001b[49m\u001b[43m)\u001b[49m\u001b[43m)\u001b[49m\n\u001b[32m    338\u001b[39m end = _w(s, end).end()\n",
      "\u001b[36mFile \u001b[39m\u001b[32m/opt/anaconda3/lib/python3.12/json/decoder.py:355\u001b[39m, in \u001b[36mJSONDecoder.raw_decode\u001b[39m\u001b[34m(self, s, idx)\u001b[39m\n\u001b[32m    354\u001b[39m \u001b[38;5;28;01mexcept\u001b[39;00m \u001b[38;5;167;01mStopIteration\u001b[39;00m \u001b[38;5;28;01mas\u001b[39;00m err:\n\u001b[32m--> \u001b[39m\u001b[32m355\u001b[39m     \u001b[38;5;28;01mraise\u001b[39;00m JSONDecodeError(\u001b[33m\"\u001b[39m\u001b[33mExpecting value\u001b[39m\u001b[33m\"\u001b[39m, s, err.value) \u001b[38;5;28;01mfrom\u001b[39;00m\u001b[38;5;250m \u001b[39m\u001b[38;5;28;01mNone\u001b[39;00m\n\u001b[32m    356\u001b[39m \u001b[38;5;28;01mreturn\u001b[39;00m obj, end\n",
      "\u001b[31mJSONDecodeError\u001b[39m: Expecting value: line 1 column 1 (char 0)",
      "\nDuring handling of the above exception, another exception occurred:\n",
      "\u001b[31mJSONDecodeError\u001b[39m                           Traceback (most recent call last)",
      "\u001b[36mCell\u001b[39m\u001b[36m \u001b[39m\u001b[32mIn[3]\u001b[39m\u001b[32m, line 14\u001b[39m\n\u001b[32m     11\u001b[39m response = requests.post(url, data=json.dumps(payload), headers=headers)\n\u001b[32m     13\u001b[39m \u001b[38;5;28mprint\u001b[39m(\u001b[33m\"\u001b[39m\u001b[33mStatus Code:\u001b[39m\u001b[33m\"\u001b[39m, response.status_code)\n\u001b[32m---> \u001b[39m\u001b[32m14\u001b[39m \u001b[38;5;28mprint\u001b[39m(\u001b[33m\"\u001b[39m\u001b[33mResponse:\u001b[39m\u001b[33m\"\u001b[39m, \u001b[43mresponse\u001b[49m\u001b[43m.\u001b[49m\u001b[43mjson\u001b[49m\u001b[43m(\u001b[49m\u001b[43m)\u001b[49m)\n",
      "\u001b[36mFile \u001b[39m\u001b[32m~/Coding/omni/venv/lib/python3.12/site-packages/requests/models.py:980\u001b[39m, in \u001b[36mResponse.json\u001b[39m\u001b[34m(self, **kwargs)\u001b[39m\n\u001b[32m    976\u001b[39m     \u001b[38;5;28;01mreturn\u001b[39;00m complexjson.loads(\u001b[38;5;28mself\u001b[39m.text, **kwargs)\n\u001b[32m    977\u001b[39m \u001b[38;5;28;01mexcept\u001b[39;00m JSONDecodeError \u001b[38;5;28;01mas\u001b[39;00m e:\n\u001b[32m    978\u001b[39m     \u001b[38;5;66;03m# Catch JSON-related errors and raise as requests.JSONDecodeError\u001b[39;00m\n\u001b[32m    979\u001b[39m     \u001b[38;5;66;03m# This aliases json.JSONDecodeError and simplejson.JSONDecodeError\u001b[39;00m\n\u001b[32m--> \u001b[39m\u001b[32m980\u001b[39m     \u001b[38;5;28;01mraise\u001b[39;00m RequestsJSONDecodeError(e.msg, e.doc, e.pos)\n",
      "\u001b[31mJSONDecodeError\u001b[39m: Expecting value: line 1 column 1 (char 0)"
     ]
    }
   ],
   "source": [
    "import requests\n",
    "import json\n",
    "\n",
    "# 修正 URL（去掉多余的斜杠）\n",
    "url = \"http://127.0.0.1:8000/suggestion\"\n",
    "\n",
    "# 使用正确的 JSON 格式发送请求\n",
    "payload = {\"question\": \"请给我介绍一下成都\"}\n",
    "headers = {\"Content-Type\": \"application/json\"}\n",
    "\n",
    "response = requests.post(url, data=json.dumps(payload), headers=headers)\n",
    "\n",
    "print(\"Status Code:\", response.status_code)\n",
    "print(\"Response:\", response.json())"
   ]
  }
 ],
 "metadata": {
  "kernelspec": {
   "display_name": "venv",
   "language": "python",
   "name": "python3"
  },
  "language_info": {
   "codemirror_mode": {
    "name": "ipython",
    "version": 3
   },
   "file_extension": ".py",
   "mimetype": "text/x-python",
   "name": "python",
   "nbconvert_exporter": "python",
   "pygments_lexer": "ipython3",
   "version": "3.12.7"
  }
 },
 "nbformat": 4,
 "nbformat_minor": 5
}
