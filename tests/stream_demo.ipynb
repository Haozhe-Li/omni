{
 "cells": [
  {
   "cell_type": "code",
   "execution_count": null,
   "id": "ba5c9dc9",
   "metadata": {},
   "outputs": [
    {
     "name": "stdout",
     "output_type": "stream",
     "text": [
      "--- Streaming Response ---\n",
      "data: {\"supervisor_agent\": \"<delegation_instruction target='summarizing_agent'>\\nPlease provide a well-structured and comprehensive answer.\\n</delegation_instruction>\"}\n",
      "\n",
      "data: {\"summarizing_agent\": \"Okay, let's start by understanding the user's question. They asked, \\\"你是谁！\\\" which translates to \\\"Who are you!\\\" in English. The user is likely seeking information about my identity and capabilities.\\nFirst, I need to recall that I am part of the Omni Compound AI system. My role is to summarize and structure research findings into clear responses. The user might not be familiar with the Omni system, so I should explain it in simple terms.\\nNext, I should outline the core mission of the Omni Compound AI system. It's important to mention that I can perform various tasks like web searches, coding, reading web pages, and complex research. This highlights the system's versatility and advanced capabilities.\\nI need to structure the response according to the guidelines provided. The user's question is a direct inquiry about identity, so a simple question structure is appropriate. The answer should be concise yet comprehensive, covering key points without unnecessary details.\\nI must adhere to formatting standards: using Markdown for headings and lists, ensuring clarity. Also, the response must be in Chinese, as per the user's input language. Checking the requirements again to make sure I don't mention any internal processes or limitations.\\nNow, compiling the response. Start with an introduction stating I'm part of the Omni system. List the main functions and capabilities. Conclude with a note about the user's option to disable Omni for simpler responses. Keep it professional and straightforward.\"}\n",
      "\n",
      "data: {\"answer\": \"## 我是谁？\\n我是**Omni Compound AI系统**的一部分，一个多功能人工智能助手，具备以下核心能力：\\n1. **网络搜索与信息整合**\\n2. **编程与代码生成**\\n3. **网页内容解析与数据提取**\\n4. **复杂任务拆解与研究**\\n### 核心使命\\n我的设计目标是通过组合多种AI模型和工具，提供**更高效、更精准、更灵活**的交互体验。例如：\\n- 当你需要编写代码时，我会调用编程专用模型；\\n- 当你需要分析数据时，我会结合搜索和计算能力；\\n- 当你需要理解复杂文档时，我会通过分步解析提供清晰结论。\\n### 使用场景\\n- **深度研究**：解决需要多步骤验证的问题\\n- **创意辅助**：生成结构化内容或逻辑推导\\n- **实用工具**：快速完成格式转换、信息提取等任务\\n### 用户控制权\\n你始终可以通过界面设置**禁用Omni Compound功能**，切换为更轻量的交互模式。\\n如果需要进一步说明我的能力或使用方法，请随时提出具体需求！\"}\n",
      "\n",
      "data: {\"content\": \"[DONE]\"}\n",
      "\n",
      "\n",
      "--- End of Stream ---\n"
     ]
    }
   ],
   "source": [
    "import requests\n",
    "import json\n",
    "import pprint\n",
    "\n",
    "def test_streaming_post():\n",
    "    \"\"\"\n",
    "    Sends a POST request to a streaming endpoint and prints the response chunks.\n",
    "    \"\"\"\n",
    "    url = \"http://127.0.0.1:8000/stream\"\n",
    "    payload = {\"messages\": [{\"role\": \"user\", \"content\": \"伊利诺伊州香槟天气怎么样\"}], \n",
    "               \"mode\": \"omni\"\n",
    "               }\n",
    "    headers = {\"Content-Type\": \"application/json\"}\n",
    "\n",
    "    try:\n",
    "        # The `stream=True` parameter is crucial for handling streaming responses.\n",
    "        with requests.post(url, data=json.dumps(payload), headers=headers, stream=True) as response:\n",
    "            # Check if the request was successful\n",
    "            response.raise_for_status()\n",
    "            \n",
    "            print(\"--- Streaming Response ---\")\n",
    "            # Iterate over the response content in chunks\n",
    "            for chunk in response.iter_content(chunk_size=None):\n",
    "                if chunk:\n",
    "                    # Decode bytes to string and print\n",
    "                    print(chunk.decode('utf-8'), end='')\n",
    "            print(\"\\n--- End of Stream ---\")\n",
    "\n",
    "    except requests.exceptions.RequestException as e:\n",
    "        print(f\"An error occurred: {e}\")\n",
    "\n",
    "# Run the test function\n",
    "if __name__ == \"__main__\":\n",
    "    test_streaming_post()\n"
   ]
  },
  {
   "cell_type": "code",
   "execution_count": null,
   "id": "73a64739",
   "metadata": {},
   "outputs": [],
   "source": [
    "import requests\n",
    "import json\n",
    "\n",
    "# 修正 URL（去掉多余的斜杠）\n",
    "url = \"http://127.0.0.1:8000/suggestion\"\n",
    "\n",
    "# 使用正确的 JSON 格式发送请求\n",
    "payload = {\"question\": \"请给我介绍一下成都\"}\n",
    "headers = {\"Content-Type\": \"application/json\"}\n",
    "\n",
    "response = requests.post(url, data=json.dumps(payload), headers=headers)\n",
    "\n",
    "print(\"Status Code:\", response.status_code)\n",
    "print(\"Response:\", response.json())"
   ]
  }
 ],
 "metadata": {
  "kernelspec": {
   "display_name": "venv",
   "language": "python",
   "name": "python3"
  },
  "language_info": {
   "codemirror_mode": {
    "name": "ipython",
    "version": 3
   },
   "file_extension": ".py",
   "mimetype": "text/x-python",
   "name": "python",
   "nbconvert_exporter": "python",
   "pygments_lexer": "ipython3",
   "version": "3.12.7"
  }
 },
 "nbformat": 4,
 "nbformat_minor": 5
}
