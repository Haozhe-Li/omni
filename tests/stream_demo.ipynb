{
 "cells": [
  {
   "cell_type": "code",
   "execution_count": 6,
   "id": "ba5c9dc9",
   "metadata": {},
   "outputs": [
    {
     "name": "stdout",
     "output_type": "stream",
     "text": [
      "--- Streaming Response ---\n",
      "data: {\"supervisor_agent\": \"<delegation_instruction target='weather_agent'>\\nProvide the current weather in Beijing, including temperature, weather condition description, humidity, and wind speed.\\n</delegation_instruction>\"}\n",
      "\n",
      "data: {\"weather_agent\": \"今天天气多云，气温大约16.94°C，湿度89%，风速0.89米/秒，风向偏北。\"}\n",
      "\n",
      "data: {\"supervisor_agent\": \"<delegation_instruction target='summarizing_agent'>\\nPlease provide a well-structured and comprehensive answer.\\n</delegation_instruction>\"}\n",
      "\n",
      "data: {\"summarizing_agent\": \"好的，我现在需要处理用户关于北京天气的查询。用户之前已经询问过今天的天气情况，并且系统已经提供了具体的温度、湿度、风速等信息。现在用户再次提交请求，可能是希望得到更详细或更结构化的回答。\\n首先，我要确认用户的需求。用户可能希望获得一个更全面的天气报告，而不仅仅是简单的数据罗列。根据之前的对话，用户已经得到了基本的天气信息，但可能希望以更清晰的方式呈现，比如分点说明或者包含更多实用建议。\\n接下来，我需要检查从weather_agent获取的数据。当前温度是16.94°C，天气多云，湿度89%，风速0.89米/秒，风向335度（北偏北西）。这些数据需要被整合成一个自然流畅的中文报告。要注意单位的正确使用，例如摄氏度符号“°C”，风速的单位转换（如3.2公里/小时），以及风向的描述。\\n然后，考虑用户可能的深层需求。虽然用户直接询问天气情况，但可能还关心是否需要带伞、穿衣建议等。因此，在总结时加入适当的建议可以提升用户体验。例如，湿度较高，建议保持通风；风向和风速较低，可能影响出行等。\\n在结构上，按照用户提供的格式要求，使用##和###作为标题，分点列出关键信息。确保每个部分的信息清晰，例如天气概况、温度、湿度、风速和风向，以及注意事项。同时，保持语言简洁，避免冗长，但又要足够详细，覆盖所有相关数据点。\\n最后，检查是否有遗漏的信息或格式错误。确保所有数据准确无误，单位正确，语言流畅自然。同时，避免使用任何Markdown格式，只使用纯文本，符合用户的要求。完成这些步骤后，将总结的天气报告返回给用户，确保满足其需求。\"}\n",
      "\n",
      "data: {\"answer\": \"## 北京天气报告（实时更新）\\n### 天气概况\\n今天北京市天气以**多云**为主，体感温度与实际温度接近，整体气候较为舒适。\\n### 关键数据\\n| **指标**       | **数值**                     |\\n|----------------|-----------------------------|\\n| 实时温度       | 16.94°C                     |\\n| 体感温度       | 17.01°C                     |\\n| 湿度           | 89%                         |\\n| 风速           | 0.89 m/s（约3.2 km/h）      |\\n| 风向           | 北偏北西（335°）             |\\n| 云层覆盖       | 43%                         |\\n### 详细说明\\n1. **温度**\\n- 当前气温稳定在16.94°C，全天高温与低温均为16.94°C，表明天气较为平稳。\\n2. **湿度与通风建议**\\n- 湿度较高（89%），建议室内保持通风，并注意防潮。\\n3. **风速与风向**\\n- 风速较缓（0.89 m/s），风向为北偏北西（335°），对户外活动影响较小。\\n4. **天气舒适度**\\n- 无极端天气（如降雨、高温等），适合日常出行。\\n### 注意事项\\n- **穿衣建议**：短袖或薄外套即可，但早晚可能稍凉，建议随身携带一件保暖衣物。\\n- **空气质量**：当前无数据，但高湿度可能伴随一定湿度，敏感人群需关注空气湿度变化。\\n如需进一步信息（如未来天气预测），请随时告知。\"}\n",
      "\n",
      "data: {\"sources\": [{\"query\": \"Current weather in Beijing, China\", \"url\": \"https://openweathermap.org\", \"title\": \"Weather in Beijing, China\", \"snippet\": \"\", \"aviod_cache\": true}]}\n",
      "\n",
      "data: {\"content\": \"[DONE]\"}\n",
      "\n",
      "\n",
      "--- End of Stream ---\n"
     ]
    }
   ],
   "source": [
    "import requests\n",
    "import json\n",
    "import pprint\n",
    "\n",
    "def test_streaming_post():\n",
    "    \"\"\"\n",
    "    Sends a POST request to a streaming endpoint and prints the response chunks.\n",
    "    \"\"\"\n",
    "    url = \"http://127.0.0.1:8000/stream\"\n",
    "    payload = {\"messages\": [{\"role\": \"user\", \"content\": \"今天天气怎么样，北京\"}], \n",
    "               \"mode\": \"omni\"\n",
    "               }\n",
    "    headers = {\"Content-Type\": \"application/json\"}\n",
    "\n",
    "    try:\n",
    "        # The `stream=True` parameter is crucial for handling streaming responses.\n",
    "        with requests.post(url, data=json.dumps(payload), headers=headers, stream=True) as response:\n",
    "            # Check if the request was successful\n",
    "            response.raise_for_status()\n",
    "            \n",
    "            print(\"--- Streaming Response ---\")\n",
    "            # Iterate over the response content in chunks\n",
    "            for chunk in response.iter_content(chunk_size=None):\n",
    "                if chunk:\n",
    "                    # Decode bytes to string and print\n",
    "                    print(chunk.decode('utf-8'), end='')\n",
    "            print(\"\\n--- End of Stream ---\")\n",
    "\n",
    "    except requests.exceptions.RequestException as e:\n",
    "        print(f\"An error occurred: {e}\")\n",
    "\n",
    "# Run the test function\n",
    "if __name__ == \"__main__\":\n",
    "    test_streaming_post()\n"
   ]
  },
  {
   "cell_type": "code",
   "execution_count": null,
   "id": "73a64739",
   "metadata": {},
   "outputs": [],
   "source": [
    "import requests\n",
    "import json\n",
    "\n",
    "# 修正 URL（去掉多余的斜杠）\n",
    "url = \"http://127.0.0.1:8000/suggestion\"\n",
    "\n",
    "# 使用正确的 JSON 格式发送请求\n",
    "payload = {\"question\": \"请给我介绍一下成都\"}\n",
    "headers = {\"Content-Type\": \"application/json\"}\n",
    "\n",
    "response = requests.post(url, data=json.dumps(payload), headers=headers)\n",
    "\n",
    "print(\"Status Code:\", response.status_code)\n",
    "print(\"Response:\", response.json())"
   ]
  }
 ],
 "metadata": {
  "kernelspec": {
   "display_name": "venv",
   "language": "python",
   "name": "python3"
  },
  "language_info": {
   "codemirror_mode": {
    "name": "ipython",
    "version": 3
   },
   "file_extension": ".py",
   "mimetype": "text/x-python",
   "name": "python",
   "nbconvert_exporter": "python",
   "pygments_lexer": "ipython3",
   "version": "3.12.7"
  }
 },
 "nbformat": 4,
 "nbformat_minor": 5
}
