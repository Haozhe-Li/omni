{
 "cells": [
  {
   "cell_type": "code",
   "execution_count": null,
   "id": "845e7909",
   "metadata": {},
   "outputs": [],
   "source": [
    "import os\n",
    "from rizaio import Riza\n",
    "\n",
    "riza = Riza(\n",
    "    # This is the default and can be omitted\n",
    "    api_key=os.environ.get(\"RIZA_API_KEY\"),\n",
    ")\n",
    "# response = riza.command.exec_func(\n",
    "#     language=\"python\",\n",
    "#     code='def execute(input):\\n  return { \"output\": input }\\n',\n",
    "#     input={},\n",
    "#     env={},\n",
    "#     http={\"allow\": []},\n",
    "# )\n",
    "# print(response)\n"
   ]
  },
  {
   "cell_type": "code",
   "execution_count": null,
   "id": "47c6c7df",
   "metadata": {},
   "outputs": [],
   "source": [
    "def python_tool(code: str) -> str:\n",
    "    \"\"\"Executes Python code.\n",
    "\n",
    "    Args:\n",
    "        code (str): The Python code to execute.\n",
    "\n",
    "    Returns:\n",
    "        str: The output of the executed code.\n",
    "    \"\"\"\n",
    "    response = riza.command.exec(\n",
    "        runtime_revision_id=os.environ.get(\"RIZA_RUNTIME_ID\"),\n",
    "        language=\"python\",\n",
    "        code=code,\n",
    "    )\n",
    "    return response"
   ]
  },
  {
   "cell_type": "code",
   "execution_count": null,
   "id": "48190bc5",
   "metadata": {},
   "outputs": [],
   "source": [
    "code = \"\"\"\n",
    "import math\n",
    "\n",
    "\n",
    "def add(a, b):\n",
    "    return a + b\n",
    "\n",
    "\n",
    "print(add(1, 2))\n",
    "\n",
    "import numpy as np\n",
    "print(np.arange(10).reshape(2, 5))\n",
    "print(math.sqrt(16))\n",
    "\"\"\"\n"
   ]
  },
  {
   "cell_type": "code",
   "execution_count": null,
   "id": "dafd6ce5",
   "metadata": {},
   "outputs": [],
   "source": [
    "print(python_tool(code=code))"
   ]
  }
 ],
 "metadata": {
  "kernelspec": {
   "display_name": "venv",
   "language": "python",
   "name": "python3"
  },
  "language_info": {
   "codemirror_mode": {
    "name": "ipython",
    "version": 3
   },
   "file_extension": ".py",
   "mimetype": "text/x-python",
   "name": "python",
   "nbconvert_exporter": "python",
   "pygments_lexer": "ipython3",
   "version": "3.12.7"
  }
 },
 "nbformat": 4,
 "nbformat_minor": 5
}
